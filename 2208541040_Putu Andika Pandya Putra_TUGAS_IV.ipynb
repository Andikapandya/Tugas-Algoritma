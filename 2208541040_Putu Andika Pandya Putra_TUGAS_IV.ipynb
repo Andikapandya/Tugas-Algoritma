{
 "cells": [
  {
   "cell_type": "markdown",
   "id": "67df24ff",
   "metadata": {},
   "source": [
    "# While Loop"
   ]
  },
  {
   "cell_type": "code",
   "execution_count": 9,
   "id": "2155b0f7",
   "metadata": {},
   "outputs": [
    {
     "name": "stdout",
     "output_type": "stream",
     "text": [
      "0\n",
      "1\n",
      "2\n",
      "3\n",
      "4\n",
      "5\n",
      "6\n",
      "7\n",
      "8\n",
      "9\n",
      "10\n"
     ]
    }
   ],
   "source": [
    "#while loop akan berjalan apabila nilainya true dan berhenti apabila nilainya flase\n",
    "#while apabila bernilai true\n",
    "a = 0\n",
    "while a <= 10:\n",
    "    print(a)\n",
    "    a +=1\n",
    "#while apabila bernila false\n",
    "a = 2\n",
    "while a < 2:\n",
    "    print(a)\n",
    "    a +=1"
   ]
  },
  {
   "cell_type": "code",
   "execution_count": 36,
   "id": "8c6fea47",
   "metadata": {},
   "outputs": [
    {
     "name": "stdout",
     "output_type": "stream",
     "text": [
      "24\n",
      "28\n",
      "14.0\n",
      "8\n",
      "64\n"
     ]
    }
   ],
   "source": [
    "#menggunakan while dengan lebih dari 1 kondisi\n",
    "#contoh I\n",
    "x = 3\n",
    "while x < 10:\n",
    "    y = x**2\n",
    "    #y = 3**2\n",
    "    #y = 9\n",
    "    x = 2*(y + x)\n",
    "    #x = 3 \n",
    "    #x = 2*(9 + 3)\n",
    "    print (x)\n",
    "\n",
    "#contoh II\n",
    "x = 4 \n",
    "while x <=10:\n",
    "    x *= 7\n",
    "    #x = x*7\n",
    "    #x = 4*7\n",
    "    #x = 28\n",
    "    y = x/2\n",
    "    #y = 28/2\n",
    "    #y =14\n",
    "    print (x)\n",
    "    print (y)\n",
    "    \n",
    "#contoh III    \n",
    "x = 4\n",
    "y = 6\n",
    "while x <8:\n",
    "    x *= 4\n",
    "    #x = x*4\n",
    "    #x = 4*4\n",
    "    #x = 16\n",
    "    x = y + 2\n",
    "    #x = 6 +2\n",
    "    #x = 8\n",
    "    y = x**2\n",
    "    #karena x sebelumnya yang bernilai 16 tertimpa dengan x baru yang bernilai 8, maka nilai x yang digunakan adalah 8\n",
    "    #jadi saat y = x**2\n",
    "    #nilai x sudah berubah menjadi 8\n",
    "    #y = 8**2\n",
    "    #y = 64\n",
    "    print (x)\n",
    "    print (y)   "
   ]
  },
  {
   "cell_type": "markdown",
   "id": "c16986c2",
   "metadata": {},
   "source": [
    "# List di Python"
   ]
  },
  {
   "cell_type": "code",
   "execution_count": 4,
   "id": "63c3f24c",
   "metadata": {},
   "outputs": [
    {
     "name": "stdout",
     "output_type": "stream",
     "text": [
      "['Mobile Legends Bang Bang', 'Pubg Mobile', 'Minecraft', 'Crisis Action', 'Growtopia', 'Clash of Clan', 'Clash Royale']\n",
      "Mobile Legends Bang Bang\n",
      "Minecraft\n",
      "Clash Royale\n",
      "Clash of Clan\n"
     ]
    }
   ],
   "source": [
    "#list digunakan untuk menampilkan objek berupa string maupun angka di pyhton\n",
    "game = ['Mobile Legends Bang Bang', 'Pubg Mobile', 'Minecraft', 'Crisis Action', 'Growtopia', 'Clash of Clan', 'Clash Royale']\n",
    "print (game)\n",
    "#menampilkan urutan index 0\n",
    "print (game[0])\n",
    "#menampilkan urutan index 2\n",
    "print (game[2])\n",
    "#menampilkan urutan index terakhir\n",
    "print (game[-1])\n",
    "#menampilkan urutan index nomor 2 terakhir\n",
    "print (game[-2])"
   ]
  },
  {
   "cell_type": "code",
   "execution_count": 8,
   "id": "9899e628",
   "metadata": {},
   "outputs": [
    {
     "name": "stdout",
     "output_type": "stream",
     "text": [
      "['COD Mobile', 'Pubg Mobile', 'Minecraft', 'Crisis Action', 'Growtopia', 'Clash of Clan', 'Hago']\n",
      "['COD Mobile', 'Pubg Mobile', 'Minecraft', 'Crisis Action', 'Growtopia', 'Clash of Clan', 'Hago']\n",
      "['COD Mobile', 'Pubg Mobile', 'Minecraft', 'Crisis Action']\n",
      "['Minecraft', 'Crisis Action', 'Growtopia']\n"
     ]
    }
   ],
   "source": [
    "#merubah list\n",
    "#merubah list pada index ke 0\n",
    "game [0] = 'COD Mobile'\n",
    "print (game)\n",
    "#merubah list pada index terakhir\n",
    "game [-1] = 'Hago'\n",
    "print (game)\n",
    "\n",
    "#membuat urutan index sampai urutan index yang diinginkan\n",
    "#bisa menggunakan dengan index yang dibatasi\n",
    "\n",
    "#contoh I\n",
    "#ingin membuat dari urutan 0 dengan batas urutan ke 4\n",
    "print (game[0:4])\n",
    "\n",
    "#contoh II\n",
    "#ingin membuat dari urutan 2 dengan batas urutan ke 5\n",
    "print (game[2:5])"
   ]
  },
  {
   "cell_type": "code",
   "execution_count": 9,
   "id": "d8b6d321",
   "metadata": {},
   "outputs": [
    {
     "name": "stdout",
     "output_type": "stream",
     "text": [
      "COD Mobile\n",
      "Pubg Mobile\n",
      "Minecraft\n",
      "Crisis Action\n",
      "Growtopia\n",
      "Clash of Clan\n",
      "Hago\n",
      "COD Mobile\n",
      "Pubg Mobile\n",
      "Minecraft\n",
      "Crisis Action\n",
      "Growtopia\n",
      "Clash of Clan\n",
      "Hago\n"
     ]
    }
   ],
   "source": [
    "#menggabungkan list dengan while\n",
    "x = 0\n",
    "while x < 7:\n",
    "    print(game[x])\n",
    "    x += 1\n",
    "#menggunakan len dalam while\n",
    "x = 0\n",
    "while x < len(game):\n",
    "    print(game[x])\n",
    "    x += 1\n"
   ]
  },
  {
   "cell_type": "markdown",
   "id": "913f345b",
   "metadata": {},
   "source": [
    "# Metoda List"
   ]
  },
  {
   "cell_type": "code",
   "execution_count": 19,
   "id": "65dd075c",
   "metadata": {},
   "outputs": [
    {
     "name": "stdout",
     "output_type": "stream",
     "text": [
      "['Kalianget', 'Kaliasem', 'Lovina', 'Telkom', 'Seririt']\n",
      "['Bualu', 'Kalianget', 'Kaliasem', 'Lovina', 'Telkom', 'Seririt']\n",
      "['Bualu', 'Kalianget', 'Kaliasem', 'Lovina', 'Telkom', 'Kutuh', 'Seririt']\n",
      "['Bualu', 'Kalianget', 'Kaliasem', 'Lovina', 'Kutuh', 'Seririt']\n",
      "['Bualu', 'Kalianget', 'Kaliasem', 'Kutuh', 'Seririt']\n"
     ]
    }
   ],
   "source": [
    "#metoda list dapat digunakan untuk menambahkan atau menghilangkan isi objek\n",
    "nama_daerah = ['Kalianget', 'Kaliasem', 'Lovina', 'Telkom', 'Seririt']\n",
    "print (nama_daerah)\n",
    "\n",
    "#menambahkan list \n",
    "#menambahkan list pada index 0\n",
    "nama_daerah.insert(0, 'Bualu')\n",
    "print (nama_daerah)\n",
    "#menambahkan list pada index terakhir\n",
    "nama_daerah.insert(-1, 'Kutuh')\n",
    "print (nama_daerah)\n",
    "\n",
    "#menghilangkan list\n",
    "#contoh I\n",
    "#menghilangkan list \"Telkom\"\n",
    "nama_daerah.remove('Telkom')\n",
    "print (nama_daerah)\n",
    "#contoh II\n",
    "#menghilangkan list \"Lovina\"\n",
    "nama_daerah.remove('Lovina')\n",
    "print (nama_daerah)"
   ]
  },
  {
   "cell_type": "code",
   "execution_count": 25,
   "id": "99f0b412",
   "metadata": {},
   "outputs": [
    {
     "name": "stdout",
     "output_type": "stream",
     "text": [
      "False\n",
      "True\n",
      "True\n",
      "5\n"
     ]
    }
   ],
   "source": [
    "#mengecek kesesuain data\n",
    "#contoh I\n",
    "#mengecek nama \"kalianget\" pada \"nama_daerah\"\n",
    "print ('kalianget' in nama_daerah)\n",
    "#bernilai false karena \"kalianget brtulis huruf kecil\" seharusnya huruf besar\n",
    "print ('Kalianget' in nama_daerah)\n",
    "\n",
    "#contoh II\n",
    "#mengecek nama \"Kutuh\" pada \"nama_daerah\"\n",
    "print ('Kutuh' in nama_daerah)\n",
    "\n",
    "#mengecek banyak rentangnya data\n",
    "print (len(nama_daerah))"
   ]
  },
  {
   "cell_type": "markdown",
   "id": "cba70c05",
   "metadata": {},
   "source": [
    "# For Loop"
   ]
  },
  {
   "cell_type": "code",
   "execution_count": 40,
   "id": "947d0ec6",
   "metadata": {},
   "outputs": [
    {
     "name": "stdout",
     "output_type": "stream",
     "text": [
      "TEKNO\n",
      "INVISO\n",
      "NEURO\n",
      "KOMBAT\n"
     ]
    },
    {
     "ename": "TypeError",
     "evalue": "'int' object is not iterable",
     "output_type": "error",
     "traceback": [
      "\u001b[1;31m---------------------------------------------------------------------------\u001b[0m",
      "\u001b[1;31mTypeError\u001b[0m                                 Traceback (most recent call last)",
      "\u001b[1;32m~\\AppData\\Local\\Temp\\ipykernel_234884\\967554019.py\u001b[0m in \u001b[0;36m<module>\u001b[1;34m\u001b[0m\n\u001b[0;32m      6\u001b[0m     \u001b[0mprint\u001b[0m \u001b[1;33m(\u001b[0m\u001b[0mskill\u001b[0m\u001b[1;33m)\u001b[0m\u001b[1;33m\u001b[0m\u001b[1;33m\u001b[0m\u001b[0m\n\u001b[0;32m      7\u001b[0m \u001b[1;31m#contoh II\u001b[0m\u001b[1;33m\u001b[0m\u001b[1;33m\u001b[0m\u001b[0m\n\u001b[1;32m----> 8\u001b[1;33m \u001b[1;32mfor\u001b[0m \u001b[0mskill\u001b[0m \u001b[1;32min\u001b[0m \u001b[0mlen\u001b[0m\u001b[1;33m(\u001b[0m\u001b[0mTeras\u001b[0m\u001b[1;33m)\u001b[0m\u001b[1;33m:\u001b[0m\u001b[1;33m\u001b[0m\u001b[1;33m\u001b[0m\u001b[0m\n\u001b[0m\u001b[0;32m      9\u001b[0m     \u001b[0mprint\u001b[0m \u001b[1;33m(\u001b[0m\u001b[0mskill\u001b[0m\u001b[1;33m)\u001b[0m\u001b[1;33m\u001b[0m\u001b[1;33m\u001b[0m\u001b[0m\n\u001b[0;32m     10\u001b[0m \u001b[1;33m\u001b[0m\u001b[0m\n",
      "\u001b[1;31mTypeError\u001b[0m: 'int' object is not iterable"
     ]
    }
   ],
   "source": [
    "#digunakan untuk memanggil semua isi list\n",
    "#contoh I\n",
    "#memunculkan semua list satu persatu\n",
    "Teras = ['TEKNO', 'INVISO', 'NEURO', 'KOMBAT']\n",
    "for skill in Teras:\n",
    "    print (skill)\n",
    "#contoh II\n",
    "#menggunakan len untuk menampilkan List\n",
    "for skill in len(Teras):\n",
    "    print (skill)\n",
    "#syntax erorr"
   ]
  },
  {
   "cell_type": "code",
   "execution_count": 44,
   "id": "b319576b",
   "metadata": {},
   "outputs": [
    {
     "name": "stdout",
     "output_type": "stream",
     "text": [
      "T\n",
      "E\n",
      "K\n",
      "N\n",
      "O\n",
      "I\n",
      "N\n",
      "V\n",
      "I\n",
      "S\n",
      "O\n"
     ]
    }
   ],
   "source": [
    "#menampilkan spelling dari salah satu list \n",
    "#contoh I\n",
    "#spelling TEKNO\n",
    "x = \"TEKNO\"\n",
    "for tekno in x:\n",
    "    print (tekno)\n",
    "#contoh II\n",
    "#spelling INVISO\n",
    "x = \"INVISO\"\n",
    "for inviso in x:\n",
    "    print (inviso)"
   ]
  },
  {
   "cell_type": "markdown",
   "id": "585e5772",
   "metadata": {},
   "source": [
    "# Fungsi Range"
   ]
  },
  {
   "cell_type": "code",
   "execution_count": 47,
   "id": "ac1280e6",
   "metadata": {},
   "outputs": [
    {
     "name": "stdout",
     "output_type": "stream",
     "text": [
      "1\n",
      "2\n",
      "3\n",
      "4\n",
      "5\n",
      "6\n",
      "7\n",
      "8\n",
      "9\n",
      "10\n",
      "0\n",
      "2\n",
      "4\n",
      "6\n",
      "8\n",
      "10\n"
     ]
    }
   ],
   "source": [
    "#fungsi range digunakan untuk bilangan berpola\n",
    "#contoh I\n",
    "#menampilkan angka 1 - 10\n",
    "for i in range (1, 11):\n",
    "    print (i)\n",
    "#11 sebagai batas akhir\n",
    "\n",
    "#contoh II \n",
    "#menampilkan angka bilangan genap\n",
    "for i in range (0,11,2):\n",
    "    print (i)\n",
    "#artinya bilangan 0 sampai batas 11 akan ditambah 2"
   ]
  },
  {
   "cell_type": "code",
   "execution_count": 50,
   "id": "6a619243",
   "metadata": {},
   "outputs": [
    {
     "name": "stdout",
     "output_type": "stream",
     "text": [
      "0\n",
      "1\n",
      "2\n",
      "3\n",
      "4\n",
      "5\n",
      "6\n",
      "7\n",
      "8\n",
      "9\n",
      "10\n"
     ]
    }
   ],
   "source": [
    "#membuat bilangan genap dengan menabahkan i += 2\n",
    "for i in range (0,11):\n",
    "    print (i)\n",
    "    i += 2\n",
    "#output yang keluar tidak merubah nilai tapi bisa running"
   ]
  },
  {
   "cell_type": "code",
   "execution_count": 67,
   "id": "ba78e231",
   "metadata": {},
   "outputs": [
    {
     "name": "stdout",
     "output_type": "stream",
     "text": [
      "2\n",
      "12\n",
      "22\n",
      "32\n",
      "42\n",
      "52\n",
      "62\n",
      "72\n",
      "82\n",
      "92\n"
     ]
    }
   ],
   "source": [
    "#membuat angka dengan batas 100\n",
    "#contoh\n",
    "#2 akan ditambah 10 sampai batas akhir 100\n",
    "for i in range (2,100,10):\n",
    "    print (i)"
   ]
  },
  {
   "cell_type": "code",
   "execution_count": 72,
   "id": "2761af5c",
   "metadata": {},
   "outputs": [
    {
     "name": "stdout",
     "output_type": "stream",
     "text": [
      "10\n",
      "9\n",
      "8\n",
      "7\n",
      "6\n",
      "5\n",
      "4\n",
      "3\n",
      "2\n",
      "1\n",
      "0\n",
      "-1\n",
      "10\n",
      "8\n",
      "6\n",
      "4\n",
      "2\n",
      "0\n"
     ]
    }
   ],
   "source": [
    "#menghitung mundur bilangan\n",
    "#contoh I\n",
    "#dari angka 10 akan dihitung mundur sampai -1\n",
    "for i in range (10,-2,-1):\n",
    "    print (i)\n",
    "#artinya 10 sampai dengan batas akhir -2 akan dikurangi 1\n",
    "\n",
    "#contoh II\n",
    "#dari angka 10 akan dihitung mundur sampai -1 dengan hitung mundur lompat 2\n",
    "for i in range (10,-2,-2):\n",
    "    print (i)\n",
    "#artinya 10 sampai dengan batas akhir -2 akan dikurangi 2"
   ]
  }
 ],
 "metadata": {
  "kernelspec": {
   "display_name": "Python 3 (ipykernel)",
   "language": "python",
   "name": "python3"
  },
  "language_info": {
   "codemirror_mode": {
    "name": "ipython",
    "version": 3
   },
   "file_extension": ".py",
   "mimetype": "text/x-python",
   "name": "python",
   "nbconvert_exporter": "python",
   "pygments_lexer": "ipython3",
   "version": "3.9.13"
  }
 },
 "nbformat": 4,
 "nbformat_minor": 5
}
