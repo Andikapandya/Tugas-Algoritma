{
 "cells": [
  {
   "cell_type": "markdown",
   "id": "bc6b538e",
   "metadata": {},
   "source": [
    "# String Index"
   ]
  },
  {
   "cell_type": "code",
   "execution_count": 1,
   "id": "a8a8f183",
   "metadata": {},
   "outputs": [
    {
     "name": "stdout",
     "output_type": "stream",
     "text": [
      "Ini Legenda\n"
     ]
    }
   ],
   "source": [
    "#mengambil string index dari kiri ke kanan \n",
    "\n",
    "#pada fungsi ini kita menghitung string yang diurutkan dengan index yang dimulai dari 0 dan seterusnya\n",
    "#spasi juga termasuk dalam perhitungan \n",
    "legend = 'Ini Legenda Tentang Kampung Durian Runtuh'\n",
    "print (legend[0:11])\n",
    "#pada fungsi ini kita mengambil 0 : 11 yang mana dibaca \"urutan index dari 0 sampai 11\"\n",
    "\n",
    "#apakah selain menggunakan tanda \":\" kita masih bisa menjalankan fungsi ini?\n",
    "#print (legend[0;11])\n",
    "#saat menggunakan \";\" ternyata dalam syntax tersebut mengalami error\n",
    "\n",
    "#print (legend[0,11])\n",
    "#saat menggunakan \",\" rupanya sama seperti saat menggunakan \";\" yaitu mengalami error \n"
   ]
  },
  {
   "cell_type": "code",
   "execution_count": 2,
   "id": "49d8b0d1",
   "metadata": {},
   "outputs": [
    {
     "name": "stdout",
     "output_type": "stream",
     "text": [
      "Ini Legenda Tentang Kampung Durian Runtu\n",
      "Ini Legenda Tentang Kampung Durian Runt\n",
      "Ini Legenda Tentang Kampung Durian Run\n",
      "Ini Legenda Tentang Kampung Durian Ru\n",
      "Legenda Tentang\n",
      "Kampung Durian\n"
     ]
    }
   ],
   "source": [
    "#menghilangkan urutan terakhir dalam string index\n",
    "\n",
    "#untuk urutan terakhir pada string index ini didefinisikan dengan -1\n",
    "#apa yang terjadi jika kita menggunakan -1 dalam index ?\n",
    "print (legend[0:-1])\n",
    "#saat kita print kan maka output yang muncul akan menghilangkan urutan terakhir pada index\n",
    "\n",
    "#lalu bagaimana jika kita menggunakan -2,-3,...,-n\n",
    "print (legend[0:-2])\n",
    "print (legend[0:-3])\n",
    "print (legend[0:-4])\n",
    "#maka output yang dihasilkan akan terus mengurangi urutan terakhir pada index \n",
    "\n",
    "#dari pernyataan ini kita dapat mencari urutan yang berada di tengah pada index\n",
    "#misalnya saja kita ingin mengambil \"Legenda Tentang\"\n",
    "print (legend[4:-22])\n",
    "#atau kita ingin mencari \"kampung durian\"\n",
    "print (legend[20:-7])\n",
    "#ini dapat terjadi karena kita mengambil (urutan yang kita inginkan dikurangi dengan urutan yang ingin kita hapus) sehingga menemukan titik tengah\n",
    "#namun sayangnya jika urutan pada index banyak maka cara ini kurang efektif digunakan"
   ]
  },
  {
   "cell_type": "code",
   "execution_count": 3,
   "id": "ec770a63",
   "metadata": {},
   "outputs": [
    {
     "name": "stdout",
     "output_type": "stream",
     "text": [
      "Ini Legenda Tentang Kampung Durian Runtuh\n",
      "Legenda Tentang Kampung Durian Runtuh\n"
     ]
    }
   ],
   "source": [
    "#mengambil urutan tertentu pada index\n",
    "\n",
    "#misalkan saja kita ingin mengeluarkan seluruh urutan\n",
    "print (legend[:]) \n",
    "#jika pada index tersebut diakhiri dengan \":\" saja tanpa adanya urutan yang lain maka otomatis output yang akan keluar akan langsung mengeluarlan seluruh urutan\n",
    "\n",
    "#lalu bagaimana jika kita ingin mengambil urutan yang kita inginkan sampai urutan terakhir ?!?\n",
    "#misalnya saja kita ingin mengambil dari kata \"legenda\"\n",
    "print (legend[4:]) \n",
    "#maka kita perlu menambahkan (urutan sebelum \":\")\n",
    "#kata legenda ini dimulai pada urutan ke 4 yaitu \"L\" maka jika kita menambahkan \":\" setelah urutan index. maka urutan akan dimulai dari urutan ke 4 sampai urutan terakhir "
   ]
  },
  {
   "cell_type": "code",
   "execution_count": 4,
   "id": "faba5290",
   "metadata": {},
   "outputs": [
    {
     "name": "stdout",
     "output_type": "stream",
     "text": [
      "IiLgnaTnagKmugDra uth\n",
      "Ini Legenda Tentang Kampung Durian Runtuh\n",
      "I gdTtgau rnuu\n",
      "IiLgnaTnagKmugDra \n",
      "Leaea mnDi \n"
     ]
    }
   ],
   "source": [
    "#mengambil urutan dengan melompati urutan yang lain\n",
    "\n",
    "#misalnya kita ingin melompat 2 urutan dalam index\n",
    "print (legend[0::2])\n",
    "#maka setelah \":\" kita perlu (menambahkan \":\" lagi dan menambahkan lompat sebanyak berapa kali). pada kasus ini sebanyak 2 kali\n",
    "#misalnya kita ingin melompat 1 urutan dalam index\n",
    "print (legend[0::1])\n",
    "#pada lompat 1 ia tidak akan mempengaruhi nilai karena pada dasarnya kita memang menghitung urutan dengan melompat 1\n",
    "#misalnya kita ingin melompat 3 urutan dalam index\n",
    "print (legend[0::3])\n",
    "\n",
    "#lalu bagaimana jika kita saat menambahkan lompatan urutan pada index kita juga ingin mengurangi urutan pada index\n",
    "#misalnya saja kita ingin lompat 2 dan menghilangkan kata runtuh\n",
    "print(legend[0:-6:2])\n",
    "#maka kita perlu menambahkan urutan lagi dengan urutan (-) untuk mengurangi urutan index yang kita inginkan\n",
    "\n",
    "#lalu bagaimana jika kita ingin mengambil urutan yang kita inginkan dengan lompatan tetapi juga kita ingin mengurangi urutan \n",
    "#misalnya saja kita ingin memulai dari urutan 4 yaitu \"L\" dengan lompat 3 dan kita ingin menghilangakn kata runtuh\n",
    "print (legend[4:-6:3])\n"
   ]
  },
  {
   "cell_type": "markdown",
   "id": "fc810c55",
   "metadata": {},
   "source": [
    "# String Methods"
   ]
  },
  {
   "cell_type": "code",
   "execution_count": 5,
   "id": "3627666c",
   "metadata": {},
   "outputs": [
    {
     "name": "stdout",
     "output_type": "stream",
     "text": [
      "35\n"
     ]
    }
   ],
   "source": [
    "#menghitung banyaknya urutan pada index\n",
    "\n",
    "judul = 'Kisah Cinta Jayaprana dan Layonsari'\n",
    "#untuk menghitung banyaknya urutan pada string index kita dapat menggunakan fungsi \"len\"\n",
    "print (len(judul))\n",
    "#maka output yang dikeluarkan adalah banyaknya urutan dalam index \n"
   ]
  },
  {
   "cell_type": "code",
   "execution_count": 6,
   "id": "c0420680",
   "metadata": {},
   "outputs": [
    {
     "data": {
      "text/plain": [
       "'KISAH CINTA JAYAPRANA DAN LAYONSARI'"
      ]
     },
     "execution_count": 6,
     "metadata": {},
     "output_type": "execute_result"
    }
   ],
   "source": [
    "#merubah seluruh font nilai dari parameter menjadi huruf besar\n",
    "\n",
    "#merubah seluruh font pada nilai dari parameter menjadi huruf besar dapat menggunakan \"fungsi upper\"\n",
    "judul.upper()\n",
    "#maka setelah penulisan parameter untuk menyambungkan fungsi upper dapat menggunakan \".\"\n",
    "\n",
    "#lalu apakah penggunaan \"_\" dapat mengganti penggunaan \".\" untuk menyambungkan parameter dengan fungsi upper?\n",
    "#judul_upper()\n",
    "#ternyata jika kita menggunakan  \"_\" untuk menyambungkan parameter dengan fungsi upper maka akan menyebabkan eror pada syntax"
   ]
  },
  {
   "cell_type": "code",
   "execution_count": 7,
   "id": "fc7938a0",
   "metadata": {},
   "outputs": [
    {
     "data": {
      "text/plain": [
       "'kisah cinta jayaprana dan layonsari'"
      ]
     },
     "execution_count": 7,
     "metadata": {},
     "output_type": "execute_result"
    }
   ],
   "source": [
    "#merubah seluruh font nilai dari parameter menjadi huruf kecil\n",
    "\n",
    "#untuk merubah seluruh font pada nilai dari parameter menjadi huruf kecil dapat menggunakan \"fungsi lower\"\n",
    "judul.lower()\n",
    "#sama seperti fungsi upper untuk menghubungkan fungsi lower harus menggunakan \".\""
   ]
  },
  {
   "cell_type": "code",
   "execution_count": 8,
   "id": "e8abf5da",
   "metadata": {},
   "outputs": [
    {
     "data": {
      "text/plain": [
       "12"
      ]
     },
     "execution_count": 8,
     "metadata": {},
     "output_type": "execute_result"
    }
   ],
   "source": [
    "#menghitung jumlah nilai dari parameter yang akan kita cari\n",
    "\n",
    "#untuk menghitung nilai dari parameter yang akan kita cari dapat menggunakan fungsi find\n",
    "judul.find('Jayaprana dan Layonsari')\n",
    "#fungsi find sendiri sama seperti fungsi upper dan fungsi lower harus menggunakan \".\"\n",
    "#jadi dapat diberi kesimpulan bahwa setiap menggabungkan fungsi dengan parameter perlu menggunakan tanda \".\"\n",
    "\n",
    "#Namun apakah jumlahnya akan sama apabila kita menggunakan huruf kecil semua pada \"jayaprana dan layonsari\"?\n",
    "#judul.find('jayaprana dan layonsari')\n",
    "#apabila kita menggunakan huruf kecil semua pada \"jayaprana dan layonsari\" maka hasilnya tidak akan sesuai dengan jumlah dari nilai parameter yang kita cari tersebut\n",
    "#dengan kata lain nilai parameter yang kita cari haruslah sama seperti yang kita masukan pada nilai parameter baik itu fontnya, tanda hubungnya, dll"
   ]
  },
  {
   "cell_type": "code",
   "execution_count": 9,
   "id": "2c4bd579",
   "metadata": {},
   "outputs": [
    {
     "name": "stdout",
     "output_type": "stream",
     "text": [
      "Kisah Cinta pangeraan dan Layonsari\n",
      "Kisah Cinta Jayaprana dan Layonsari\n",
      "Kisah Cinta Jayaprana dan Puteri yang Cantik dan Manis\n"
     ]
    }
   ],
   "source": [
    "#mengganti nilai dari parameter\n",
    "\n",
    "#untuk mengganti nilai dari parameter dapat menggunakan fungsi replace\n",
    "print (judul.replace('Jayaprana', 'pangeraan'))\n",
    "#pada fungsi ini kita merubah \"jayaprana\" menjadi \"pangeran\"\n",
    "#setiap ingin mengganti nilai dari parameter, yang ditulis duluan ialah (nilai paramter yang ingin diganti) lalu berikutnya (nilai pengganti dari parameter tersebut)\n",
    "#pada fungsi ini \",\" sebagai pemisah untuk menggantikan nilai dari parameter\n",
    "\n",
    "#lalu bagaimana jika kita menulis nilai dari parameter yang ingin kita ganti menggunakan huruf kecil ?\n",
    "print (judul.replace('layonsari', 'Puteri yang Cantik dan Manis'))\n",
    "#maka hal tersebut tidak akan merubah nilai dari parameter karena nilai dari parameter sendiri tidak dapat dibaca \n",
    "#maka untuk mengganti nilai dari parameter yang diinginkan harus sesuai dengan nilai parameter tersebut\n",
    "print (judul.replace('Layonsari', 'Puteri yang Cantik dan Manis'))"
   ]
  },
  {
   "cell_type": "code",
   "execution_count": 10,
   "id": "5361ad94",
   "metadata": {},
   "outputs": [
    {
     "name": "stdout",
     "output_type": "stream",
     "text": [
      "True\n",
      "False\n",
      "True\n",
      "Kisah Cinta Jayaprana dan Puteri yang Cantik dan Manis\n",
      "False\n",
      "True\n"
     ]
    }
   ],
   "source": [
    "#mengecek kesesuaian nilai dari parameter\n",
    "\n",
    "#mengecek kesesuain nilai dari parameter apakah sesuai atau tidak\n",
    "print('Jayaprana' in judul)\n",
    "#jika true maka nilai dari parameter sesuai\n",
    "print('jayaprana' in judul)\n",
    "#jika output yang dihasilkan false maka nilai dari parameter tidak sesuai\n",
    "print('Layonsari' in judul)\n",
    "\n",
    "#lalu mengapa saat menulis \"Layonsari\" masih bernilai true ? padahal kita tadi sudah mereplace nilai nya \n",
    "#karena yang kita replace tadi masih belum divariabelkan\n",
    "#misalnya kita ingin memvariabelkan nilai parameter replace yang tadi, sebut saja \"judul_trf\"\n",
    "judul_trf = judul.replace ('Layonsari', 'Puteri yang Cantik dan Manis')\n",
    "print (judul_trf)\n",
    "\n",
    "#mengecek kesesuaian \"Layonsari\" apakah bernilai true atau false\n",
    "print('Layonsari' in judul_trf)\n",
    "#ini bernilai false karena pada judul trf yang tadi sudah divariabelkan maka \"Layonsari\" sendiri sudah berubah menjadi \"Puteri yang Cantik dan Manis\"\n",
    "print('Puteri' in judul_trf)\n",
    "#sedangkan ini bernilai true karena pada perubahan nilai yang sudah terjadi pada parameter memang terdapat \"nilai Puteri\" dalam perubahan yang terjadi"
   ]
  },
  {
   "cell_type": "markdown",
   "id": "5de659f3",
   "metadata": {},
   "source": [
    "# Operasi Matematika di Python"
   ]
  },
  {
   "cell_type": "code",
   "execution_count": 11,
   "id": "ec8be05d",
   "metadata": {},
   "outputs": [
    {
     "name": "stdout",
     "output_type": "stream",
     "text": [
      "10\n",
      "-4\n",
      "32\n",
      "0.5\n",
      "8\n",
      "12.0\n"
     ]
    }
   ],
   "source": [
    "#menghitung penjumlahan, pengurangan, perkalian, pembagian\n",
    "\n",
    "#menghitung penjumlahan, pada penjumlahan sendiri menggunakan lambang \"+\"\n",
    "print (5 + 5)\n",
    "#menghitung pengurangan, pada pengurangan sendiri menggunakan lambang \"-\"\n",
    "print (3 - 7)\n",
    "#menghitung perkalian, pada perkalian sendiri menggunakan lambang \"*\"\n",
    "print (4 * 8)\\\n",
    "#menghitung pembagian, pada pembagian sendiri menggunakan lambang \"/\"\n",
    "print (4 / 8)\n",
    "\n",
    "#lalu bagaimana jika kita menggabungkan pertambahan, pengurangan, perkalian, pembagian?\n",
    "#misal a = 3, b =4, c =5\n",
    "a = 3\n",
    "b = 4\n",
    "c = 5\n",
    "jumlah = (b*(c-a))\n",
    "print (jumlah)\n",
    "\n",
    "#menggunakan angka langsung tanpa memisalkan\n",
    "print (1/2*(9+3)*2)"
   ]
  },
  {
   "cell_type": "code",
   "execution_count": 12,
   "id": "74e90085",
   "metadata": {},
   "outputs": [
    {
     "name": "stdout",
     "output_type": "stream",
     "text": [
      "2\n",
      "3\n",
      "27\n",
      "6\n"
     ]
    }
   ],
   "source": [
    "#menghitung pembulatan pembagian, modulo, pemangkatan, augmented operator\n",
    "\n",
    "#menghitung pembukatan pembagian, pada pembulatan pembagian sendiri menggunakan lambang \"//\"\n",
    "print (5//2)\n",
    "#menghitung modulo, pada modulo sendiri menggunakan lambang \"%\"\n",
    "#modulo adalah menghitung sisa\n",
    "print (7%4)\n",
    "#nah pada kasus ini 7 mod 4 artinya 4 X berapa mendekati 7. yaitu 4 X 1 = 4 maka sisanya adalah 3 jadi 7 mod 4 adalah 3\n",
    "#menghitung pemangkatan, pada pemangkatan sendiri menggunakan lambang \"**\"\n",
    "print (3**3)\n",
    "#menghitung augmented operator\n",
    "#misalnya saja x = 3, dan kita ingin mengalikan dengan 2, maka\n",
    "x = 3\n",
    "x *= 2\n",
    "print (x)\n",
    "#ini akan menghasilkan 6 karena saat x *= 2 itu artinya x = x*2 yang mana nilai x nya adalah 3 maka x = 3*2\n"
   ]
  },
  {
   "cell_type": "markdown",
   "id": "d47a82a9",
   "metadata": {},
   "source": [
    "# Operator Perbandingan di Python"
   ]
  },
  {
   "cell_type": "code",
   "execution_count": 13,
   "id": "fc1d0ad9",
   "metadata": {},
   "outputs": [
    {
     "name": "stdout",
     "output_type": "stream",
     "text": [
      "True\n",
      "True\n",
      "True\n",
      "True\n",
      "True\n",
      "True\n",
      "False\n"
     ]
    }
   ],
   "source": [
    "#operator perbandingan\n",
    "\n",
    "#lebih besar dilambangkan dengan \">\"\n",
    "x = 3>2\n",
    "print(x)\n",
    "#lebih kecil dilambangkan \"<\"\n",
    "X = 7<10\n",
    "print (X)\n",
    "#lebih besar sama dengan dilambangakn \">=\"\n",
    "x = 8>=5\n",
    "print(x)\n",
    "#lalu bagaimana bila nilainya sama\n",
    "x = 10>=10\n",
    "print (x)\n",
    "#maka outputnya bernilai true\n",
    "#lebih kecil sama dengan dilambangkan dengan \"<=\"\n",
    "x = 4<=9\n",
    "print (x)\n",
    "#sama dengan dilambangkan \"==\"\n",
    "x = 6==6\n",
    "print (x)\n",
    "#tidak sama dengan dilambangkan dengan \"!=\"\n",
    "x = 0!=1\n",
    "#lantas bagaimana bila nilainya sama \n",
    "x = 0!=0\n",
    "print (x)\n",
    "#maka outputnya sesuai false"
   ]
  },
  {
   "cell_type": "markdown",
   "id": "be6857b6",
   "metadata": {},
   "source": [
    "# Operator Logika di Python"
   ]
  },
  {
   "cell_type": "code",
   "execution_count": 14,
   "id": "93ec39dc",
   "metadata": {},
   "outputs": [
    {
     "name": "stdout",
     "output_type": "stream",
     "text": [
      "False\n",
      "False\n",
      "True\n",
      "True\n",
      "True\n",
      "False\n",
      "False\n",
      "True\n"
     ]
    }
   ],
   "source": [
    "#menggunakan operator and, or, dan not\n",
    "\n",
    "#menggunakan operator  and\n",
    "buku = 10\n",
    "sepatu = 25\n",
    "print (buku > 10 and sepatu > 25)\n",
    "#ini akan bernilai \"false\" karena nilai keduanya salah\n",
    "#namun bila kita ganti sepatu > 21 apakah bernilai \"true\"?\n",
    "print (buku > 10 and sepatu > 21)\n",
    "#maka outputnya masih bernilai \"false\" karena untuk operator \"and\" itu jika salah satu salah maka akan bernilai false\n",
    "#namun bila kita ganti misalnya buku > 6\n",
    "print (buku> 6 and sepatu > 21)\n",
    "#karena kedua nilai ini benar maka output yang dihasilkan akan \"true\"\n",
    "\n",
    "#menggunakan operator or\n",
    "sepatu_balenciaga_kw = 500000\n",
    "sepatu_vans_kw = 250000\n",
    "print (sepatu_balenciaga_kw > 350000 or sepatu_vans_kw > 150000)\n",
    "#bernilai \"true\" karena kedua nilai bernilai benar \n",
    "#namun bagaimana bila kita ganti misalnya untuk \"sepatu_vans_kw\" menjadi > 300000\n",
    "print (sepatu_balenciaga_kw > 350000 or sepatu_vans_kw > 300000)\n",
    "#maka hasilnya akan bernilai true karena untuk operator \"or\" jika salah satu bernilai benar maka output yang keluar adalah true\n",
    "#ini akan bernilai false apabila kedua nilai bernilai salah\n",
    "#misalnya kita ganti untuk \"super_balenciaga_kw\" menjadi > 500001 dan untuk \"sepatu_vans_kw\" menjadi < 250000\n",
    "print (sepatu_balenciaga_kw > 500001 or sepatu_vans_kw < 250000)\n",
    "#maka output yang dihasilkan akan bernilai false karena kedua nilai bernilai salah\n",
    "\n",
    "#menggunakan operator not\n",
    "pulpen = 6\n",
    "pensil = 2\n",
    "print (not (pulpen < 3 or pensil < 3))\n",
    "#bernilai false karena untuk operator not apabila nilai yang kita masukan bernilai \"true\" maka akan otomatis berubah menjadi \"false\"\n",
    "#begitupun dengan sebaliknya. misalnya saja kita ingin merubah untuk \"pensil\" menjadi < 2\n",
    "print (not (pulpen < 3 or pensil <2))\n",
    "#maka output yang dihasilkan adalah true"
   ]
  },
  {
   "cell_type": "markdown",
   "id": "ac33dc6b",
   "metadata": {},
   "source": [
    "# operator if di Python"
   ]
  },
  {
   "cell_type": "code",
   "execution_count": 15,
   "id": "e9f89d55",
   "metadata": {},
   "outputs": [
    {
     "name": "stdout",
     "output_type": "stream",
     "text": [
      "Masukkan nilai anda = 70000\n",
      "Harga Murah\n"
     ]
    }
   ],
   "source": [
    "#menggunakan operator if\n",
    "\n",
    "#operator if sendiri akan berjalan apabila nilai variabel bernilai true\n",
    "#namun apabila nilai variabel bernilai false maka operator if tidak akan berjalan\n",
    "#misalnya saja kita ingin membuat harga barang yang dimana apabila < 100.000 maka harga barang itu murah namun apabila > 100.000 maka harga barang tersebut mahal\n",
    "harga_barang = int(input(\"Masukkan nilai anda = \"))\n",
    "#if kondisi : aksi\n",
    "if harga_barang < 100000:\n",
    "    print (\"Harga Murah\")\n",
    "if harga_barang > 100000:\n",
    "    print (\"Harga Mahal\") \n",
    "#namun apakah kita masih bisa menjalankan operator if bila kita mengganti titik \":\" dengan \";\" ?\n",
    "#harga_barang = int (input(\"Masukkan nilai anda = \"))\n",
    "#if harga_barang < 100000;\n",
    "    #print (\"Harga Murah\")\n",
    "#if harga_barang > 100000;\n",
    "    #print (\"Harga Mahal\")\n",
    "#ternyata apabila kita menggunakan \";\" akan menyebabkan invalid syntax"
   ]
  },
  {
   "cell_type": "code",
   "execution_count": 20,
   "id": "a42617a4",
   "metadata": {},
   "outputs": [
    {
     "name": "stdout",
     "output_type": "stream",
     "text": [
      "8\n"
     ]
    }
   ],
   "source": [
    "#menjalan penggunaan if dan else\n",
    "#misalnya saja kita ingin menghitung nilai pada y\n",
    "y = 2\n",
    "x = 5\n",
    "if x < 10:\n",
    "    y = x+3\n",
    "    print (y)\n",
    "#jika nilai benar maka jalankan if\n",
    "#jika nilai salah maka jalankan else\n",
    "else :\n",
    "    print (y)\n",
    "#maka pada kasus ini karena nilai memenuhi if maka jalankan if"
   ]
  },
  {
   "cell_type": "code",
   "execution_count": 21,
   "id": "06f31f4f",
   "metadata": {},
   "outputs": [
    {
     "name": "stdout",
     "output_type": "stream",
     "text": [
      "2\n"
     ]
    }
   ],
   "source": [
    "#menjalan penggunaan if dan else\n",
    "\n",
    "#misalnya saja kita ingin menghitung nilai pada y\n",
    "y = 2\n",
    "x = 5\n",
    "if x > 10:\n",
    "    y = x+3\n",
    "    print (y)\n",
    "#jika nilai benar maka jalankan if\n",
    "#jika nilai salah maka jalankan else\n",
    "else :\n",
    "    print (y)\n",
    "#maka pada kasus ini karena nilai tidak memenuhi if maka jalankan else"
   ]
  },
  {
   "cell_type": "code",
   "execution_count": null,
   "id": "861abc5a",
   "metadata": {},
   "outputs": [],
   "source": []
  }
 ],
 "metadata": {
  "kernelspec": {
   "display_name": "Python 3 (ipykernel)",
   "language": "python",
   "name": "python3"
  },
  "language_info": {
   "codemirror_mode": {
    "name": "ipython",
    "version": 3
   },
   "file_extension": ".py",
   "mimetype": "text/x-python",
   "name": "python",
   "nbconvert_exporter": "python",
   "pygments_lexer": "ipython3",
   "version": "3.9.13"
  }
 },
 "nbformat": 4,
 "nbformat_minor": 5
}
