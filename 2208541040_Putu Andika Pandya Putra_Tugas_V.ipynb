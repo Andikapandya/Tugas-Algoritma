{
 "cells": [
  {
   "cell_type": "markdown",
   "id": "5f383166",
   "metadata": {},
   "source": [
    "# List 2 dimensi"
   ]
  },
  {
   "cell_type": "code",
   "execution_count": 1,
   "id": "668466ee",
   "metadata": {},
   "outputs": [
    {
     "name": "stdout",
     "output_type": "stream",
     "text": [
      "[[1, 3, 5], [8, 9, 10], [12, 14, 16]]\n",
      "[1, 3, 5]\n",
      "[12, 14, 16]\n",
      "9\n",
      "12\n"
     ]
    }
   ],
   "source": [
    "#list 2 dimensi yaitu menenmpatkan list di dalam list\n",
    "#untuk list sendiri menggunakan \"[]\"\n",
    "matrix = [\n",
    "    [1,3,5],\n",
    "    [8,9,10],\n",
    "    [12,14,16]\n",
    "]\n",
    "print (matrix)\n",
    "\n",
    "#memanggil matrix pada index\n",
    "#contoh I\n",
    "#memanggil matrix pada index ke - 0\n",
    "matrix [0]\n",
    "print (matrix [0])\n",
    "#contoh II\n",
    "#memanggil matrix pada index ke - -1 atau ke - 2\n",
    "matrix [-1]\n",
    "print (matrix[-1])\n",
    "\n",
    "#memanggil matrix pada baris dan kolom tertentu\n",
    "#contoh I\n",
    "#memanggil matrix pada baris ke - 1 kolom ke -1\n",
    "matrix [1][1]\n",
    "print (matrix [1][1])\n",
    "#contoh II\n",
    "#memanggil matrix pada baris terakhir kolom ke - 0\n",
    "matrix [-1][0]\n",
    "print (matrix[-1][0])"
   ]
  },
  {
   "cell_type": "code",
   "execution_count": 3,
   "id": "83f4a94c",
   "metadata": {},
   "outputs": [
    {
     "name": "stdout",
     "output_type": "stream",
     "text": [
      "15\n",
      "17\n",
      "[[1, 3, 5], [8, 9, 10], [12, 15, 17]]\n",
      "[1, 3, 5]\n",
      "[8, 9, 10]\n",
      "[12, 15, 17]\n"
     ]
    }
   ],
   "source": [
    "#merubah nilai matrix pada baris dan kolom tertentu\n",
    "#contoh I\n",
    "#merubah nilai matrix pada baris ke - 2 kolom ke -1\n",
    "matrix [2][1] = 15\n",
    "print (matrix [2][1])\n",
    "#contoh II\n",
    "#merubah nilai matrix pada baris dan kolom terakhir \n",
    "matrix [-1][-1] = 17\n",
    "print (matrix [-1][-1])\n",
    "\n",
    "#memanggil seluruh list di dalam list\n",
    "print (matrix)\n",
    "#maka saat dipanggil nilai yang tadi dirubah akan menggantikan nilai sebelumnya\n",
    "for objek in matrix :\n",
    "    print (objek)\n",
    "#atau kita dapat menggunakan for untuk memnaggil semua list\n",
    "#namun ada sedikit perbedaan pada output\n",
    "#jika kita menggunakan \"print (matrix)\" maka outputnya adalah \"list didalam list\",\n",
    "#sedangkan bila kita gunakan for maka output yang muncul \"hanya list\" yang berada di dalam list"
   ]
  },
  {
   "cell_type": "markdown",
   "id": "2ab39a50",
   "metadata": {},
   "source": [
    "# Tuples"
   ]
  },
  {
   "cell_type": "code",
   "execution_count": 3,
   "id": "cbed9e9e",
   "metadata": {},
   "outputs": [
    {
     "name": "stdout",
     "output_type": "stream",
     "text": [
      "('A', 'N', 'Y')\n",
      "A\n",
      "Y\n",
      "('A', 'N', 'Y')\n",
      "('A', 'Y')\n",
      "('A', 'N', 'Y')\n",
      "A\n",
      "N\n",
      "Y\n"
     ]
    }
   ],
   "source": [
    "#hampir mirip seperti list hanya saja nilai tuples tidak dapat dirubah (tetap),\n",
    "#sedangkan nilai list dapat dirubah (tidak tetap)\n",
    "#untuk tupples biasanya menggunakan \"()\"\n",
    "nama_anggota = ('A', 'N', 'Y')\n",
    "print (nama_anggota)\n",
    "\n",
    "#memanggil index tertentu\n",
    "#contoh I \n",
    "#memanggil index ke 0\n",
    "nama_anggota [0]\n",
    "print (nama_anggota [0])\n",
    "#contoh II\n",
    "#memanggil index ke terakhir\n",
    "nama_anggota [-1]\n",
    "print (nama_anggota [-1])\n",
    "\n",
    "#memanggil index dengan urutan tertentu\n",
    "#contoh I\n",
    "#misalnya kita ingin memanggil index ke - 0 sampai ke terakhir\n",
    "print (nama_anggota [0:3])\n",
    "#contoh II\n",
    "#misalnya kita ingin memanggil index namun dengan urutan yang dilompati 2\n",
    "print (nama_anggota [0::2])\n",
    "\n",
    "#memanggil seluruh list\n",
    "print (nama_anggota)\n",
    "#atau kita juga dapat menggunakan for untuk memanggil seluruh list\n",
    "for pasangan in nama_anggota:\n",
    "    print (pasangan)"
   ]
  },
  {
   "cell_type": "code",
   "execution_count": 5,
   "id": "bb9bbb9c",
   "metadata": {},
   "outputs": [
    {
     "ename": "TypeError",
     "evalue": "'tuple' object does not support item assignment",
     "output_type": "error",
     "traceback": [
      "\u001b[1;31m---------------------------------------------------------------------------\u001b[0m",
      "\u001b[1;31mTypeError\u001b[0m                                 Traceback (most recent call last)",
      "\u001b[1;32m~\\AppData\\Local\\Temp\\ipykernel_461564\\4217471227.py\u001b[0m in \u001b[0;36m<module>\u001b[1;34m\u001b[0m\n\u001b[0;32m      2\u001b[0m \u001b[1;31m#contoh I\u001b[0m\u001b[1;33m\u001b[0m\u001b[1;33m\u001b[0m\u001b[0m\n\u001b[0;32m      3\u001b[0m \u001b[1;31m#ingin merubah \"y\"\u001b[0m\u001b[1;33m\u001b[0m\u001b[1;33m\u001b[0m\u001b[0m\n\u001b[1;32m----> 4\u001b[1;33m \u001b[0mnama_anggota\u001b[0m \u001b[1;33m[\u001b[0m\u001b[1;36m2\u001b[0m\u001b[1;33m]\u001b[0m \u001b[1;33m=\u001b[0m \u001b[1;34m\"E\"\u001b[0m\u001b[1;33m\u001b[0m\u001b[1;33m\u001b[0m\u001b[0m\n\u001b[0m\u001b[0;32m      5\u001b[0m \u001b[1;31m#maka akan menampilkan eror karena \"Y\" sendiri tidak bisa digantikan oleh apapun karena ia bersifat tupples\u001b[0m\u001b[1;33m\u001b[0m\u001b[1;33m\u001b[0m\u001b[0m\n\u001b[0;32m      6\u001b[0m \u001b[1;31m#contoh II\u001b[0m\u001b[1;33m\u001b[0m\u001b[1;33m\u001b[0m\u001b[0m\n",
      "\u001b[1;31mTypeError\u001b[0m: 'tuple' object does not support item assignment"
     ]
    }
   ],
   "source": [
    "#melakukan perubahan pada tuples\n",
    "#contoh I\n",
    "#ingin merubah \"y\"\n",
    "nama_anggota [2] = \"E\"\n",
    "#maka akan menampilkan eror karena \"Y\" sendiri tidak bisa digantikan oleh apapun karena ia bersifat tupples\n",
    "#contoh II\n",
    "nama_anggota.append (\"Al\")\n",
    "#contoh III\n",
    "nama_anggota.remove (\"Y\")\n",
    "#karena semua yang dijalankan mengalami eror\n",
    "#maka dapat disimpulkan tupple sendiri tidak dapat dirubah nilainya baik itu ditambahkan atau dihilangkan"
   ]
  },
  {
   "cell_type": "code",
   "execution_count": 8,
   "id": "c44d3c10",
   "metadata": {},
   "outputs": [
    {
     "data": {
      "text/plain": [
       "1"
      ]
     },
     "execution_count": 8,
     "metadata": {},
     "output_type": "execute_result"
    }
   ],
   "source": [
    "#menghitung banyaknya elemen yang muncul pada index\n",
    "nama_anggota.count ('A')\n",
    "#karena untuk index \"A\" hanya sekali muncul \n",
    "#maka outoputnya adalah 1"
   ]
  },
  {
   "cell_type": "markdown",
   "id": "15494270",
   "metadata": {},
   "source": [
    "# Dictionaries"
   ]
  },
  {
   "cell_type": "code",
   "execution_count": 9,
   "id": "2d663dc5",
   "metadata": {},
   "outputs": [
    {
     "name": "stdout",
     "output_type": "stream",
     "text": [
      "{'Nama Ketua': 'A', 'Nama Sekretaris': 'Y', 'Nama Anggota': ['Jaya', 'Pathur', 'Bang DO']}\n"
     ]
    }
   ],
   "source": [
    "#digunakan apabila data nya terkait satu sama lain\n",
    "#untuk dictionarie biasanya menggunakan \"{ }\"\n",
    "data_kelompok = {\n",
    "    \"Nama Ketua\" : \"A\",\n",
    "    \"Nama Sekretaris\" : \"Y\",\n",
    "    \"Nama Anggota\" : [\"Jaya\", \"Pathur\", \"Bang DO\"]\n",
    "}\n",
    "print (data_kelompok)"
   ]
  },
  {
   "cell_type": "code",
   "execution_count": 10,
   "id": "64f3accc",
   "metadata": {},
   "outputs": [
    {
     "name": "stdout",
     "output_type": "stream",
     "text": [
      "A\n"
     ]
    },
    {
     "ename": "KeyError",
     "evalue": "'nama ketua'",
     "output_type": "error",
     "traceback": [
      "\u001b[1;31m---------------------------------------------------------------------------\u001b[0m",
      "\u001b[1;31mKeyError\u001b[0m                                  Traceback (most recent call last)",
      "\u001b[1;32m~\\AppData\\Local\\Temp\\ipykernel_461564\\52148658.py\u001b[0m in \u001b[0;36m<module>\u001b[1;34m\u001b[0m\n\u001b[0;32m      3\u001b[0m \u001b[0mprint\u001b[0m \u001b[1;33m(\u001b[0m\u001b[0mdata_kelompok\u001b[0m\u001b[1;33m[\u001b[0m\u001b[1;34m\"Nama Ketua\"\u001b[0m\u001b[1;33m]\u001b[0m\u001b[1;33m)\u001b[0m\u001b[1;33m\u001b[0m\u001b[1;33m\u001b[0m\u001b[0m\n\u001b[0;32m      4\u001b[0m \u001b[1;31m#contoh II\u001b[0m\u001b[1;33m\u001b[0m\u001b[1;33m\u001b[0m\u001b[0m\n\u001b[1;32m----> 5\u001b[1;33m \u001b[0mprint\u001b[0m \u001b[1;33m(\u001b[0m\u001b[0mdata_kelompok\u001b[0m\u001b[1;33m[\u001b[0m\u001b[1;34m\"nama ketua\"\u001b[0m\u001b[1;33m]\u001b[0m\u001b[1;33m)\u001b[0m\u001b[1;33m\u001b[0m\u001b[1;33m\u001b[0m\u001b[0m\n\u001b[0m\u001b[0;32m      6\u001b[0m \u001b[1;31m#akan mengalami eror karena harus sesuai dengan isi pada dictionaries\u001b[0m\u001b[1;33m\u001b[0m\u001b[1;33m\u001b[0m\u001b[0m\n\u001b[0;32m      7\u001b[0m \u001b[1;31m#contoh III\u001b[0m\u001b[1;33m\u001b[0m\u001b[1;33m\u001b[0m\u001b[0m\n",
      "\u001b[1;31mKeyError\u001b[0m: 'nama ketua'"
     ]
    }
   ],
   "source": [
    "#memanggil data dari dictionaries\n",
    "#contoh I\n",
    "print (data_kelompok[\"Nama Ketua\"])\n",
    "#contoh II\n",
    "print (data_kelompok[\"nama ketua\"])\n",
    "#akan mengalami eror karena harus sesuai dengan isi pada dictionaries\n",
    "#contoh III\n",
    "#memanggil data yang tidak ada pada dictionaries\n",
    "print (data_kelompok[\"Nama Bendahara\"])\n",
    "#maka syntax akan mengalami eror"
   ]
  },
  {
   "cell_type": "code",
   "execution_count": 12,
   "id": "bc228a0e",
   "metadata": {},
   "outputs": [
    {
     "name": "stdout",
     "output_type": "stream",
     "text": [
      "Y\n",
      "['Jaya', 'Pathur', 'Bang DO']\n",
      "None\n",
      "Nama Wakil ketua\n",
      "02-10-2003\n"
     ]
    }
   ],
   "source": [
    "#memanggil data dari dictionaries menggunakan \"get\"\n",
    "#contoh I\n",
    "print (data_kelompok.get(\"Nama Sekretaris\"))\n",
    "#contoh II\n",
    "print (data_kelompok.get(\"Nama Anggota\"))\n",
    "#contoh III\n",
    "print (data_kelompok.get(\"Nama Bendahara\"))\n",
    "#none\n",
    "#karena tidak ada dalam dictionaries\n",
    "#contoh IV\n",
    "print (data_kelompok.get(\"Nama Bendahara\", \"Nama Wakil ketua\"))\n",
    "#maka data hanya akan membaca data selanjutnya\n",
    "#contoh V\n",
    "print (data_kelompok.get(\"Nama Bendahara\", \"02-10-2003\"))"
   ]
  },
  {
   "cell_type": "code",
   "execution_count": 13,
   "id": "fb96bb2e",
   "metadata": {},
   "outputs": [
    {
     "name": "stdout",
     "output_type": "stream",
     "text": [
      "Nama Ketua\n",
      "Nama Sekretaris\n",
      "Nama Anggota\n"
     ]
    }
   ],
   "source": [
    "#memanggil dictionaries menggunakan for\n",
    "for nama in data_kelompok:\n",
    "    print (nama)"
   ]
  },
  {
   "cell_type": "code",
   "execution_count": 14,
   "id": "fe48330a",
   "metadata": {},
   "outputs": [
    {
     "name": "stdout",
     "output_type": "stream",
     "text": [
      "Hilmi Squad\n"
     ]
    }
   ],
   "source": [
    "#menambahkan data pada dictionaries\n",
    "data_kelompok [\"Nama Kelompok\"] = \"Hilmi Squad\"\n",
    "print (data_kelompok[\"Nama Kelompok\"])"
   ]
  },
  {
   "cell_type": "code",
   "execution_count": 15,
   "id": "a2c34a96",
   "metadata": {},
   "outputs": [
    {
     "name": "stdout",
     "output_type": "stream",
     "text": [
      "{'Nama Ketua': 'A', 'Nama Sekretaris': 'Y', 'Nama Anggota': ['Jaya', 'Pathur', 'Bang DO'], 'Nama Kelompok': 'Hilmi Squad'}\n"
     ]
    }
   ],
   "source": [
    "#menampilkan data yang telah diperbarui\n",
    "print(data_kelompok)"
   ]
  },
  {
   "cell_type": "code",
   "execution_count": 19,
   "id": "a36656e0",
   "metadata": {},
   "outputs": [],
   "source": [
    "#menggunakan dictionaries untuk memasuki angka\n",
    "angka = {\n",
    "    \"0\" : \"kosong\",\n",
    "    \"1\" : \"satu\",\n",
    "    \"2\" : \"dua\",\n",
    "    \"3\" : \"tiga\",\n",
    "    \"4\" : \"empat\",\n",
    "    \"5\" : \"lima\",\n",
    "    \"6\" : \"enam\",\n",
    "    \"7\" : \"tujuh\",\n",
    "    \"8\" : \"delapan\",\n",
    "    \"9\" : \"sembilan\",\n",
    "}"
   ]
  },
  {
   "cell_type": "code",
   "execution_count": 20,
   "id": "d2b8580e",
   "metadata": {},
   "outputs": [
    {
     "name": "stdout",
     "output_type": "stream",
     "text": [
      "Masukkan NIM Anda 2208541040\n",
      "dua dua kosong delapan lima empat satu kosong empat kosong \n"
     ]
    }
   ],
   "source": [
    "NIM = input (\"Masukkan NIM Anda \")\n",
    "#menggunakan \"\"\n",
    "nomor_angka = \"\"\n",
    "#menyimpan nilai dari proses perulangan\n",
    "for nilai in NIM:\n",
    "    nomor_angka += angka.get(nilai) + \" \"\n",
    "    #nomor_angka = nomor angka + angka.get + spasi\n",
    "print (nomor_angka)"
   ]
  },
  {
   "cell_type": "code",
   "execution_count": 21,
   "id": "5a092cfa",
   "metadata": {},
   "outputs": [
    {
     "name": "stdout",
     "output_type": "stream",
     "text": [
      "Masukkan NIM Anda 2208541018\n",
      "dua dua kosong delapan lima empat satu kosong satu delapan \n"
     ]
    }
   ],
   "source": [
    "NIM = input (\"Masukkan NIM Anda \")\n",
    "#menggunakan str ()\n",
    "nomor_angka = str ()\n",
    "#menyimpan nilai dari proses perulangan\n",
    "for nilai in NIM:\n",
    "    nomor_angka += angka.get(nilai) + \" \"\n",
    "    #nomor_angka = nomor angka + angka.get + spasi\n",
    "print (nomor_angka)"
   ]
  },
  {
   "cell_type": "markdown",
   "id": "3f85704e",
   "metadata": {},
   "source": [
    "# Fungsi dalam Python"
   ]
  },
  {
   "cell_type": "code",
   "execution_count": 23,
   "id": "82d469f4",
   "metadata": {},
   "outputs": [],
   "source": [
    "#def digunakan untuk mendefinisikan suatu fungsi\n",
    "def full_nama(nama_depan,nama_belakang):\n",
    "    print (f\"nama lenkapnya adalah {nama_depan} {nama_belakang}\")"
   ]
  },
  {
   "cell_type": "code",
   "execution_count": 24,
   "id": "3a9339db",
   "metadata": {},
   "outputs": [
    {
     "name": "stdout",
     "output_type": "stream",
     "text": [
      "masukkan nama depan andika\n",
      "masukkan nama belakang pandya\n",
      "nama lenkapnya adalah andika pandya\n"
     ]
    }
   ],
   "source": [
    "nama_depan = input (\"masukkan nama depan \")\n",
    "nama_belakang = input (\"masukkan nama belakang \")\n",
    "full_nama (nama_depan,nama_belakang)"
   ]
  },
  {
   "cell_type": "code",
   "execution_count": 25,
   "id": "ca4bff8c",
   "metadata": {},
   "outputs": [],
   "source": [
    "#menggunakan library numpy\n",
    "import numpy as np"
   ]
  },
  {
   "cell_type": "code",
   "execution_count": 26,
   "id": "034a8e0d",
   "metadata": {},
   "outputs": [],
   "source": [
    "#menghitung luas bangun datar\n",
    "#contoh I mengitung luas segitiga\n",
    "def luas_segitiga(alas, tinggi):\n",
    "    luas = 1/2 * alas * tinggi\n",
    "    return luas\n",
    "#maka eksekusi fungsi berhenti "
   ]
  },
  {
   "cell_type": "code",
   "execution_count": 27,
   "id": "80582a81",
   "metadata": {},
   "outputs": [
    {
     "name": "stdout",
     "output_type": "stream",
     "text": [
      "masukkan nilai alas 4\n",
      "masukkan nilai tinggi 10\n"
     ]
    },
    {
     "data": {
      "text/plain": [
       "20.0"
      ]
     },
     "execution_count": 27,
     "metadata": {},
     "output_type": "execute_result"
    }
   ],
   "source": [
    "alas = int (input (\"masukkan nilai alas \"))\n",
    "tinggi = int (input (\"masukkan nilai tinggi \"))\n",
    "luas_segitiga(alas, tinggi)"
   ]
  },
  {
   "cell_type": "code",
   "execution_count": 28,
   "id": "667d74a9",
   "metadata": {},
   "outputs": [],
   "source": [
    "#contoh II menghitung luas lingkaran\n",
    "def luas_lingkaran(jari_jari):\n",
    "    luas = np.pi * jari_jari**2\n",
    "    return luas"
   ]
  },
  {
   "cell_type": "code",
   "execution_count": 29,
   "id": "30720375",
   "metadata": {},
   "outputs": [
    {
     "name": "stdout",
     "output_type": "stream",
     "text": [
      "masukkan nilai jari_jari 7\n"
     ]
    },
    {
     "data": {
      "text/plain": [
       "153.93804002589985"
      ]
     },
     "execution_count": 29,
     "metadata": {},
     "output_type": "execute_result"
    }
   ],
   "source": [
    "jari_jari = int (input (\"masukkan nilai jari_jari \"))\n",
    "luas_lingkaran(jari_jari)"
   ]
  },
  {
   "cell_type": "code",
   "execution_count": 30,
   "id": "6bda1243",
   "metadata": {},
   "outputs": [],
   "source": [
    "#menghitung volume bangun ruang prisma\n",
    "def volume_prisma(luas_alas,tinggi_prisma):\n",
    "    volume = luas_alas * tinggi_prisma\n",
    "    return volume\n",
    "#eksekusi fungsi berhenti disini"
   ]
  },
  {
   "cell_type": "code",
   "execution_count": 31,
   "id": "f7169642",
   "metadata": {},
   "outputs": [
    {
     "name": "stdout",
     "output_type": "stream",
     "text": [
      "bentuk luas alas = segitiga\n",
      "alas = 4\n",
      "tinggi segitiga = 7\n",
      "14.0\n",
      "tinggi prisma = 15\n",
      "volume prisma adalah 210.0\n"
     ]
    }
   ],
   "source": [
    "luas_alas = input (\"bentuk luas alas = \")\n",
    "#if kondisi : aksi\n",
    "if luas_alas == \"segitiga\":\n",
    "#jika segitiga jalankan ini\n",
    "    alas_segitiga = input (\"alas = \")\n",
    "    tinggi_segitiga = input (\"tinggi segitiga = \")\n",
    "    luas_alas = 1/2 * (int (alas_segitiga) * int (tinggi_segitiga)) \n",
    "    print (luas_alas)\n",
    "elif luas_alas == \"segi empat\":\n",
    "#jika segi empat jalankan ini\n",
    "    panjang = input (\"panjang = \")\n",
    "    lebar = input (\"lebar = \")\n",
    "    luas_alas = (int (panjang) * int (lebar))\n",
    "    print (luas_alas)\n",
    "tinggi_prisma = int (input (\"tinggi prisma = \"))\n",
    "volume_prisma (luas_alas,tinggi_prisma)\n",
    "#mewadahkan fungsi volume_prisma\n",
    "volume = volume_prisma (luas_alas,tinggi_prisma)\n",
    "print (f\"volume prisma adalah {volume}\")"
   ]
  },
  {
   "cell_type": "markdown",
   "id": "bc0254ed",
   "metadata": {},
   "source": [
    "# Numpy"
   ]
  },
  {
   "cell_type": "code",
   "execution_count": 32,
   "id": "97cf20d0",
   "metadata": {},
   "outputs": [
    {
     "name": "stdout",
     "output_type": "stream",
     "text": [
      "[0 1 2 3 4]\n"
     ]
    }
   ],
   "source": [
    "#numpy adalah library dalam python yang memiliki keunggulan dalam perhitungan vektor dan matrix\n",
    "#memanggil numpy\n",
    "a = np.array ([0,1,2,3,4])\n",
    "#array = kumpulan variabel yang menyimpan data dengan tipe yang sama\n",
    "print (a)"
   ]
  },
  {
   "cell_type": "code",
   "execution_count": 33,
   "id": "a31b08b5",
   "metadata": {},
   "outputs": [
    {
     "name": "stdout",
     "output_type": "stream",
     "text": [
      "[[ 5  7  9 11]\n",
      " [ 6  8 10 12]]\n"
     ]
    }
   ],
   "source": [
    "b = np.array ([[5,7,9,11], [6,8,10,12]])\n",
    "print (b)"
   ]
  },
  {
   "cell_type": "code",
   "execution_count": 34,
   "id": "e638b810",
   "metadata": {},
   "outputs": [
    {
     "name": "stdout",
     "output_type": "stream",
     "text": [
      "[[ 1  2  3  4]\n",
      " [ 5  7  9 11]\n",
      " [ 2  5  4  2]\n",
      " [ 9  0  3  1]]\n"
     ]
    }
   ],
   "source": [
    "c = np.array ([[1,2,3,4],[5,7,9,11],\n",
    "               [2,5,4,2],[9,0,3,1]])\n",
    "print (c)"
   ]
  },
  {
   "cell_type": "code",
   "execution_count": 35,
   "id": "736c6813",
   "metadata": {},
   "outputs": [
    {
     "data": {
      "text/plain": [
       "1"
      ]
     },
     "execution_count": 35,
     "metadata": {},
     "output_type": "execute_result"
    }
   ],
   "source": [
    "a.ndim"
   ]
  },
  {
   "cell_type": "code",
   "execution_count": 36,
   "id": "4f743506",
   "metadata": {},
   "outputs": [
    {
     "data": {
      "text/plain": [
       "2"
      ]
     },
     "execution_count": 36,
     "metadata": {},
     "output_type": "execute_result"
    }
   ],
   "source": [
    "b.ndim"
   ]
  },
  {
   "cell_type": "code",
   "execution_count": 37,
   "id": "76e5ed19",
   "metadata": {},
   "outputs": [
    {
     "data": {
      "text/plain": [
       "2"
      ]
     },
     "execution_count": 37,
     "metadata": {},
     "output_type": "execute_result"
    }
   ],
   "source": [
    "c.ndim"
   ]
  },
  {
   "cell_type": "code",
   "execution_count": 38,
   "id": "e74869e0",
   "metadata": {},
   "outputs": [
    {
     "data": {
      "text/plain": [
       "(5,)"
      ]
     },
     "execution_count": 38,
     "metadata": {},
     "output_type": "execute_result"
    }
   ],
   "source": [
    "#shape = (baris,kolom)\n",
    "a.shape"
   ]
  },
  {
   "cell_type": "code",
   "execution_count": 39,
   "id": "a4dd2e1e",
   "metadata": {},
   "outputs": [
    {
     "data": {
      "text/plain": [
       "(2, 4)"
      ]
     },
     "execution_count": 39,
     "metadata": {},
     "output_type": "execute_result"
    }
   ],
   "source": [
    "b.shape"
   ]
  },
  {
   "cell_type": "code",
   "execution_count": 40,
   "id": "96d0e70e",
   "metadata": {},
   "outputs": [
    {
     "data": {
      "text/plain": [
       "(4, 4)"
      ]
     },
     "execution_count": 40,
     "metadata": {},
     "output_type": "execute_result"
    }
   ],
   "source": [
    "c.shape"
   ]
  },
  {
   "cell_type": "markdown",
   "id": "bdb0c360",
   "metadata": {},
   "source": [
    "### Memanggil Anggota Kolom dan Baris dengan Numpy"
   ]
  },
  {
   "cell_type": "code",
   "execution_count": 41,
   "id": "1c035264",
   "metadata": {},
   "outputs": [
    {
     "name": "stdout",
     "output_type": "stream",
     "text": [
      "[[ 1  2  3  4]\n",
      " [ 5  7  9 11]\n",
      " [ 2  5  4  2]\n",
      " [ 9  0  3  1]]\n"
     ]
    }
   ],
   "source": [
    "c = np.array ([[1,2,3,4],[5,7,9,11],\n",
    "               [2,5,4,2],[9,0,3,1]])\n",
    "print (c)"
   ]
  },
  {
   "cell_type": "code",
   "execution_count": 42,
   "id": "3b8e8652",
   "metadata": {},
   "outputs": [
    {
     "data": {
      "text/plain": [
       "1"
      ]
     },
     "execution_count": 42,
     "metadata": {},
     "output_type": "execute_result"
    }
   ],
   "source": [
    "#contoh I \n",
    "#memanggil baris 0 kolom 0\n",
    "c[0,0]"
   ]
  },
  {
   "cell_type": "code",
   "execution_count": 43,
   "id": "530673d6",
   "metadata": {},
   "outputs": [
    {
     "data": {
      "text/plain": [
       "array([1, 2, 3, 4])"
      ]
     },
     "execution_count": 43,
     "metadata": {},
     "output_type": "execute_result"
    }
   ],
   "source": [
    "#contoh II\n",
    "#memanggil dari baris 0 sampai kolom terakhir\n",
    "c[0,:]"
   ]
  },
  {
   "cell_type": "code",
   "execution_count": 44,
   "id": "028422ef",
   "metadata": {},
   "outputs": [
    {
     "data": {
      "text/plain": [
       "array([9, 0, 3, 1])"
      ]
     },
     "execution_count": 44,
     "metadata": {},
     "output_type": "execute_result"
    }
   ],
   "source": [
    "#contoh III\n",
    "#memanggil dari baris terakhir sampai kolom terakhir\n",
    "c[-1,:]"
   ]
  },
  {
   "cell_type": "code",
   "execution_count": 45,
   "id": "0fdbece4",
   "metadata": {},
   "outputs": [
    {
     "data": {
      "text/plain": [
       "array([1, 5, 2, 9])"
      ]
     },
     "execution_count": 45,
     "metadata": {},
     "output_type": "execute_result"
    }
   ],
   "source": [
    "#contoh IV\n",
    "#memanggil dari kolom 0 sampai baris terakhir\n",
    "c[:,0]"
   ]
  },
  {
   "cell_type": "code",
   "execution_count": 46,
   "id": "b88b14c1",
   "metadata": {},
   "outputs": [
    {
     "data": {
      "text/plain": [
       "array([5, 4, 2])"
      ]
     },
     "execution_count": 46,
     "metadata": {},
     "output_type": "execute_result"
    }
   ],
   "source": [
    "#memanggil kolom dan baris dengan batasan\n",
    "#contoh I\n",
    "#memanggil baris 2 kolom 1 dengan batas sampai 4\n",
    "c[2,1:4]"
   ]
  },
  {
   "cell_type": "code",
   "execution_count": 47,
   "id": "b856a44d",
   "metadata": {},
   "outputs": [
    {
     "data": {
      "text/plain": [
       "array([5, 4])"
      ]
     },
     "execution_count": 47,
     "metadata": {},
     "output_type": "execute_result"
    }
   ],
   "source": [
    "#contoh II\n",
    "#memanggil baris 2 kolom 1 dengan batas sampai 3\n",
    "c[2,1:3]"
   ]
  },
  {
   "cell_type": "code",
   "execution_count": 48,
   "id": "c27a942a",
   "metadata": {},
   "outputs": [
    {
     "name": "stdout",
     "output_type": "stream",
     "text": [
      "[[ 1  2  3  4]\n",
      " [ 5  7  9 11]\n",
      " [ 2  5  4  2]\n",
      " [ 9  0 10  1]]\n"
     ]
    }
   ],
   "source": [
    "#mengganti baris dan kolom\n",
    "#misalnya mengganti nilai pada baris ke - 3 kolom ke - 2\n",
    "c[3,2]=10\n",
    "print (c)"
   ]
  },
  {
   "cell_type": "markdown",
   "id": "943547e2",
   "metadata": {},
   "source": [
    "## Matrix pada Numpy"
   ]
  },
  {
   "cell_type": "code",
   "execution_count": 49,
   "id": "bf4005fd",
   "metadata": {},
   "outputs": [
    {
     "data": {
      "text/plain": [
       "array([[0., 0.],\n",
       "       [0., 0.],\n",
       "       [0., 0.]])"
      ]
     },
     "execution_count": 49,
     "metadata": {},
     "output_type": "execute_result"
    }
   ],
   "source": [
    "#perintah pada matrix\n",
    "#matrix 3x2 dengan nilai 0\n",
    "np.zeros((3,2))"
   ]
  },
  {
   "cell_type": "code",
   "execution_count": 50,
   "id": "b0921077",
   "metadata": {},
   "outputs": [
    {
     "data": {
      "text/plain": [
       "array([[1., 1.],\n",
       "       [1., 1.]])"
      ]
     },
     "execution_count": 50,
     "metadata": {},
     "output_type": "execute_result"
    }
   ],
   "source": [
    "#matrix 2x2 dengan nilai 1\n",
    "np.ones((2,2))"
   ]
  },
  {
   "cell_type": "code",
   "execution_count": 51,
   "id": "2dfe50e7",
   "metadata": {},
   "outputs": [
    {
     "data": {
      "text/plain": [
       "array([[1., 0., 0., 0.],\n",
       "       [0., 1., 0., 0.],\n",
       "       [0., 0., 1., 0.],\n",
       "       [0., 0., 0., 1.]])"
      ]
     },
     "execution_count": 51,
     "metadata": {},
     "output_type": "execute_result"
    }
   ],
   "source": [
    "#matrix identitas 4x4\n",
    "np.identity(4)"
   ]
  },
  {
   "cell_type": "code",
   "execution_count": 55,
   "id": "52095d79",
   "metadata": {},
   "outputs": [
    {
     "data": {
      "text/plain": [
       "array([[[1., 1., 1.],\n",
       "        [1., 1., 1.]],\n",
       "\n",
       "       [[1., 1., 1.],\n",
       "        [1., 1., 1.]]])"
      ]
     },
     "execution_count": 55,
     "metadata": {},
     "output_type": "execute_result"
    }
   ],
   "source": [
    "#membuat 2 matrix dengan nilai baris dan kolom yang sama\n",
    "np.ones((2,2,3))"
   ]
  },
  {
   "cell_type": "code",
   "execution_count": 56,
   "id": "5347c09f",
   "metadata": {},
   "outputs": [
    {
     "data": {
      "text/plain": [
       "array([[0, 0, 0],\n",
       "       [0, 0, 0],\n",
       "       [0, 0, 0]])"
      ]
     },
     "execution_count": 56,
     "metadata": {},
     "output_type": "execute_result"
    }
   ],
   "source": [
    "#membuat matrix 3 X 3 dengan semua nilai 0\n",
    "np.full((3,3),0)"
   ]
  },
  {
   "cell_type": "code",
   "execution_count": 58,
   "id": "d9109fce",
   "metadata": {},
   "outputs": [
    {
     "data": {
      "text/plain": [
       "array([[0.17007433, 0.60306552, 0.22880252],\n",
       "       [0.75395154, 0.86154693, 0.17477307],\n",
       "       [0.4049708 , 0.60838811, 0.07114695],\n",
       "       [0.72020172, 0.46871743, 0.68618764]])"
      ]
     },
     "execution_count": 58,
     "metadata": {},
     "output_type": "execute_result"
    }
   ],
   "source": [
    "#membuat matrix dengan nilai acak dengan ukuran 4 X 3\n",
    "np.random.rand(4,3)"
   ]
  },
  {
   "cell_type": "code",
   "execution_count": 59,
   "id": "39652a2c",
   "metadata": {},
   "outputs": [
    {
     "data": {
      "text/plain": [
       "array([[2, 1, 8],\n",
       "       [8, 4, 5],\n",
       "       [8, 4, 8],\n",
       "       [7, 5, 1]])"
      ]
     },
     "execution_count": 59,
     "metadata": {},
     "output_type": "execute_result"
    }
   ],
   "source": [
    "#membuat matrix dengan nilai acak mulai dari rentang 1-10 dengan ukuran 4 X 3\n",
    "np.random.randint(1,10,size=(4,3))"
   ]
  },
  {
   "cell_type": "code",
   "execution_count": 63,
   "id": "b1bd6269",
   "metadata": {},
   "outputs": [
    {
     "name": "stdout",
     "output_type": "stream",
     "text": [
      "[[0. 0. 0. 0. 0.]\n",
      " [0. 0. 0. 0. 0.]\n",
      " [0. 0. 0. 0. 0.]\n",
      " [0. 0. 0. 0. 0.]\n",
      " [0. 0. 0. 0. 0.]]\n"
     ]
    }
   ],
   "source": [
    "#membuat matrix 0 dengan ukuran 5 X 5\n",
    "a = np.zeros ((5,5))\n",
    "print (a)"
   ]
  },
  {
   "cell_type": "code",
   "execution_count": 67,
   "id": "d9219fea",
   "metadata": {},
   "outputs": [
    {
     "name": "stdout",
     "output_type": "stream",
     "text": [
      "[[ 45  63  81  99]\n",
      " [ 54  72  90 108]]\n"
     ]
    }
   ],
   "source": [
    "c = 9*b\n",
    "print (c)"
   ]
  },
  {
   "cell_type": "code",
   "execution_count": 71,
   "id": "8064b352",
   "metadata": {},
   "outputs": [
    {
     "name": "stdout",
     "output_type": "stream",
     "text": [
      "[[4. 1. 1.]\n",
      " [1. 4. 1.]\n",
      " [1. 1. 4.]]\n"
     ]
    }
   ],
   "source": [
    "#matrix 3x3 dengan  nilai 1\n",
    "d = np.ones ((3,3))\n",
    "#matrix identitas 3x3 dengan diagonal utama 3 \n",
    "e = np.identity (3)*3\n",
    "f = d+e\n",
    "print (f)"
   ]
  },
  {
   "cell_type": "code",
   "execution_count": 74,
   "id": "460635f2",
   "metadata": {},
   "outputs": [
    {
     "name": "stdout",
     "output_type": "stream",
     "text": [
      "[[9. 2. 2. 2.]\n",
      " [2. 9. 2. 2.]\n",
      " [2. 2. 9. 2.]\n",
      " [2. 2. 2. 9.]]\n"
     ]
    }
   ],
   "source": [
    "#matrix 4x4 dengan nilai 1 x 2\n",
    "x = np.ones((4,4))*2\n",
    "#matrix identitas 4x4 dengan diagonal utama 7\n",
    "y = np.identity (4)*7\n",
    "z = x + y\n",
    "print(z)"
   ]
  },
  {
   "cell_type": "markdown",
   "id": "887fe394",
   "metadata": {},
   "source": [
    "## Copy pada Numpy"
   ]
  },
  {
   "cell_type": "code",
   "execution_count": 75,
   "id": "abc15773",
   "metadata": {},
   "outputs": [
    {
     "name": "stdout",
     "output_type": "stream",
     "text": [
      "[2 3 5 6 7]\n"
     ]
    }
   ],
   "source": [
    "a = np.array ([2,3,5,6,7])\n",
    "print (a)"
   ]
  },
  {
   "cell_type": "code",
   "execution_count": 76,
   "id": "e983ab73",
   "metadata": {},
   "outputs": [
    {
     "name": "stdout",
     "output_type": "stream",
     "text": [
      "[2 3 5 6 7]\n"
     ]
    }
   ],
   "source": [
    "#mengopy wadah a ke b\n",
    "#maka a = b\n",
    "b = a\n",
    "print (b)"
   ]
  },
  {
   "cell_type": "code",
   "execution_count": 81,
   "id": "890a0aa9",
   "metadata": {},
   "outputs": [
    {
     "name": "stdout",
     "output_type": "stream",
     "text": [
      "[10  3  5  9  7]\n"
     ]
    }
   ],
   "source": [
    "#mengganti baris ke 0 kolom ke 3\n",
    "b[3] =9\n",
    "print (b)\n",
    "#bila kita sudah dapat mengganti nilai dan kita menghapus ulang, ingin mengganti yang baru\n",
    "#maka nilai yang sudah dihapus sebelumnya itu masih tetap ada\n",
    "#contoh \n",
    "#untuk b[0] = 10"
   ]
  },
  {
   "cell_type": "code",
   "execution_count": 83,
   "id": "32c25252",
   "metadata": {},
   "outputs": [
    {
     "name": "stdout",
     "output_type": "stream",
     "text": [
      "[10  3  5  9  7]\n"
     ]
    }
   ],
   "source": [
    "#parameter asli ikut terpengaruh\n",
    "print (a)"
   ]
  },
  {
   "cell_type": "code",
   "execution_count": 84,
   "id": "1c752ff2",
   "metadata": {},
   "outputs": [
    {
     "name": "stdout",
     "output_type": "stream",
     "text": [
      "[2 3 4 5 6]\n"
     ]
    }
   ],
   "source": [
    "c = np.array ([2,3,4,5,6])\n",
    "print (c)"
   ]
  },
  {
   "cell_type": "code",
   "execution_count": 85,
   "id": "f4cad2bd",
   "metadata": {},
   "outputs": [
    {
     "name": "stdout",
     "output_type": "stream",
     "text": [
      "[2 3 4 5 6]\n"
     ]
    }
   ],
   "source": [
    "#menngunakan fungsi \"copy ()\"\n",
    "d = c.copy ()\n",
    "print (d)"
   ]
  },
  {
   "cell_type": "code",
   "execution_count": 86,
   "id": "2f90da77",
   "metadata": {},
   "outputs": [
    {
     "name": "stdout",
     "output_type": "stream",
     "text": [
      "[  2   3 100   5   6]\n"
     ]
    }
   ],
   "source": [
    "d[2] = 100\n",
    "print (d)"
   ]
  },
  {
   "cell_type": "code",
   "execution_count": 87,
   "id": "d6d80abe",
   "metadata": {},
   "outputs": [
    {
     "name": "stdout",
     "output_type": "stream",
     "text": [
      "[2 3 4 5 6]\n"
     ]
    }
   ],
   "source": [
    "#hasil yang telah dirubah ternyata tidak berpengaruh pada parameter aslinya\n",
    "print (c)"
   ]
  },
  {
   "cell_type": "markdown",
   "id": "79432db7",
   "metadata": {},
   "source": [
    "## Operasi Matematika pada Numpy"
   ]
  },
  {
   "cell_type": "code",
   "execution_count": 88,
   "id": "3c30f222",
   "metadata": {},
   "outputs": [
    {
     "name": "stdout",
     "output_type": "stream",
     "text": [
      "[12  5  7 11  9]\n",
      "[0 1 2 3 4]\n",
      "[  2   3 100   5   6]\n",
      "[5.  1.5 2.5 4.5 3.5]\n"
     ]
    },
    {
     "data": {
      "text/plain": [
       "array([100,   9,  25,  81,  49], dtype=int32)"
      ]
     },
     "execution_count": 88,
     "metadata": {},
     "output_type": "execute_result"
    }
   ],
   "source": [
    "#contoh I pertambahan\n",
    "x = a + 2\n",
    "print (x)\n",
    "#akan menambahkan nilai pada \"a sebelumnya yaitu : (10,3,5,9,7)\"\n",
    "#contoh II pengurangan\n",
    "x = c - 2\n",
    "print (x)\n",
    "#mengurangi nilai pada \"c sebelumnya yaitu (2,3,4,5,6)\"\n",
    "#contoh III perkalian\n",
    "x = d*1\n",
    "print (x)\n",
    "#mengalikan nilai pada \"d sebelumnya yaitu (2,3,100,5,6)\"\n",
    "#contoh IV pembagian\n",
    "x = b/2\n",
    "print (x)\n",
    "#membagi nilai pada \"b sebelumnya yaitu (10,3,5,9,7)\"\n",
    "#contoh V pemangkatan\n",
    "#menjalankan tanpa perlu di wadahkan\n",
    "a**2\n",
    "#akan memangkatkan nilai pada \"a sebelumnya yaitu : (10,3,5,9,7)\""
   ]
  },
  {
   "cell_type": "code",
   "execution_count": 89,
   "id": "01a5744a",
   "metadata": {},
   "outputs": [
    {
     "name": "stdout",
     "output_type": "stream",
     "text": [
      "[10  3  5  9  7]\n"
     ]
    }
   ],
   "source": [
    "print (a)"
   ]
  },
  {
   "cell_type": "code",
   "execution_count": 90,
   "id": "bc4a6b9d",
   "metadata": {},
   "outputs": [
    {
     "data": {
      "text/plain": [
       "array([-0.83907153, -0.9899925 ,  0.28366219, -0.91113026,  0.75390225])"
      ]
     },
     "execution_count": 90,
     "metadata": {},
     "output_type": "execute_result"
    }
   ],
   "source": [
    "np.cos (a)"
   ]
  },
  {
   "cell_type": "code",
   "execution_count": 91,
   "id": "18774817",
   "metadata": {},
   "outputs": [
    {
     "data": {
      "text/plain": [
       "array([ 0.64836083, -0.14254654, -3.38051501, -0.45231566,  0.87144798])"
      ]
     },
     "execution_count": 91,
     "metadata": {},
     "output_type": "execute_result"
    }
   ],
   "source": [
    "np.tan (a)"
   ]
  },
  {
   "cell_type": "code",
   "execution_count": 92,
   "id": "985e499d",
   "metadata": {},
   "outputs": [
    {
     "data": {
      "text/plain": [
       "array([1.10132329e+04, 1.00178749e+01, 7.42032106e+01, 4.05154190e+03,\n",
       "       5.48316123e+02])"
      ]
     },
     "execution_count": 92,
     "metadata": {},
     "output_type": "execute_result"
    }
   ],
   "source": [
    "#sinus hiperbolik\n",
    "np.sinh (a)"
   ]
  },
  {
   "cell_type": "code",
   "execution_count": 93,
   "id": "3f0c1c6a",
   "metadata": {},
   "outputs": [
    {
     "data": {
      "text/plain": [
       "array([1.10132329e+04, 1.00676620e+01, 7.42099485e+01, 4.05154203e+03,\n",
       "       5.48317035e+02])"
      ]
     },
     "execution_count": 93,
     "metadata": {},
     "output_type": "execute_result"
    }
   ],
   "source": [
    "#cosinus hiperbolik\n",
    "np.cosh (a)"
   ]
  },
  {
   "cell_type": "code",
   "execution_count": 94,
   "id": "65cb40ed",
   "metadata": {},
   "outputs": [
    {
     "data": {
      "text/plain": [
       "array([1.        , 0.99505475, 0.9999092 , 0.99999997, 0.99999834])"
      ]
     },
     "execution_count": 94,
     "metadata": {},
     "output_type": "execute_result"
    }
   ],
   "source": [
    "#tangen hiperbolik\n",
    "np.tanh (a)"
   ]
  },
  {
   "cell_type": "code",
   "execution_count": 95,
   "id": "4fcede7d",
   "metadata": {},
   "outputs": [
    {
     "data": {
      "text/plain": [
       "array([3.16227766, 1.73205081, 2.23606798, 3.        , 2.64575131])"
      ]
     },
     "execution_count": 95,
     "metadata": {},
     "output_type": "execute_result"
    }
   ],
   "source": [
    "#akar kuadrat\n",
    "np.sqrt (a)"
   ]
  },
  {
   "cell_type": "markdown",
   "id": "408b9ca1",
   "metadata": {},
   "source": [
    "## Perkalian Matrix pada Numpy"
   ]
  },
  {
   "cell_type": "code",
   "execution_count": 102,
   "id": "59cc77b6",
   "metadata": {},
   "outputs": [
    {
     "name": "stdout",
     "output_type": "stream",
     "text": [
      "[[1 2 1]\n",
      " [2 1 5]\n",
      " [3 0 2]]\n"
     ]
    }
   ],
   "source": [
    "#contoh I\n",
    "#perkalian matrix 3 x 3\n",
    "a = np.array ([[1,2,1],[2,1,5],[3,0,2]])\n",
    "print (a)"
   ]
  },
  {
   "cell_type": "code",
   "execution_count": 103,
   "id": "34645ad6",
   "metadata": {},
   "outputs": [
    {
     "name": "stdout",
     "output_type": "stream",
     "text": [
      "[[2 4 3]\n",
      " [3 5 7]\n",
      " [0 1 3]]\n"
     ]
    }
   ],
   "source": [
    "b = np.array ([[2,4,3],[3,5,7],[0,1,3]])\n",
    "print (b)"
   ]
  },
  {
   "cell_type": "code",
   "execution_count": 104,
   "id": "669c3334",
   "metadata": {},
   "outputs": [
    {
     "name": "stdout",
     "output_type": "stream",
     "text": [
      "[[ 2  8  3]\n",
      " [ 6  5 35]\n",
      " [ 0  0  6]]\n"
     ]
    }
   ],
   "source": [
    "c = a*b\n",
    "print (c)"
   ]
  },
  {
   "cell_type": "code",
   "execution_count": 118,
   "id": "e833f4e4",
   "metadata": {},
   "outputs": [
    {
     "name": "stdout",
     "output_type": "stream",
     "text": [
      "[[26 38]\n",
      " [58 40]]\n"
     ]
    }
   ],
   "source": [
    "#menjalankan perintah matmul\n",
    "d = np.matmul(a,b)\n",
    "print (d)"
   ]
  },
  {
   "cell_type": "code",
   "execution_count": 119,
   "id": "92da76ed",
   "metadata": {},
   "outputs": [
    {
     "name": "stdout",
     "output_type": "stream",
     "text": [
      "[[7 2 4]\n",
      " [2 9 5]]\n"
     ]
    }
   ],
   "source": [
    "#contoh II\n",
    "#perkalian matrix 2 x 3 dan 3 x 2\n",
    "a = np.array ([[7,2,4],[2,9,5]])\n",
    "print (a)"
   ]
  },
  {
   "cell_type": "code",
   "execution_count": 120,
   "id": "7f6809d8",
   "metadata": {},
   "outputs": [
    {
     "name": "stdout",
     "output_type": "stream",
     "text": [
      "[[2 4]\n",
      " [3 5]\n",
      " [2 1]]\n"
     ]
    }
   ],
   "source": [
    "b = np.array ([[2,4],[3,5],[2,1]])\n",
    "print (b)"
   ]
  },
  {
   "cell_type": "code",
   "execution_count": 121,
   "id": "8ae36cbb",
   "metadata": {},
   "outputs": [
    {
     "ename": "ValueError",
     "evalue": "operands could not be broadcast together with shapes (2,3) (3,2) ",
     "output_type": "error",
     "traceback": [
      "\u001b[1;31m---------------------------------------------------------------------------\u001b[0m",
      "\u001b[1;31mValueError\u001b[0m                                Traceback (most recent call last)",
      "\u001b[1;32m~\\AppData\\Local\\Temp\\ipykernel_461564\\3832890938.py\u001b[0m in \u001b[0;36m<module>\u001b[1;34m\u001b[0m\n\u001b[1;32m----> 1\u001b[1;33m \u001b[0mc\u001b[0m \u001b[1;33m=\u001b[0m \u001b[0ma\u001b[0m\u001b[1;33m*\u001b[0m\u001b[0mb\u001b[0m\u001b[1;33m\u001b[0m\u001b[1;33m\u001b[0m\u001b[0m\n\u001b[0m\u001b[0;32m      2\u001b[0m \u001b[0mprint\u001b[0m \u001b[1;33m(\u001b[0m\u001b[0mc\u001b[0m\u001b[1;33m)\u001b[0m\u001b[1;33m\u001b[0m\u001b[1;33m\u001b[0m\u001b[0m\n\u001b[0;32m      3\u001b[0m \u001b[1;31m#syntax eror karena memiliki jumlah baris dan kolom yang berbeda\u001b[0m\u001b[1;33m\u001b[0m\u001b[1;33m\u001b[0m\u001b[0m\n",
      "\u001b[1;31mValueError\u001b[0m: operands could not be broadcast together with shapes (2,3) (3,2) "
     ]
    }
   ],
   "source": [
    "c = a*b\n",
    "print (c)\n",
    "#syntax eror karena memiliki jumlah baris dan kolom yang berbeda"
   ]
  },
  {
   "cell_type": "code",
   "execution_count": 122,
   "id": "a2e157b4",
   "metadata": {},
   "outputs": [
    {
     "name": "stdout",
     "output_type": "stream",
     "text": [
      "[[7 2 4]\n",
      " [2 9 5]]\n"
     ]
    }
   ],
   "source": [
    "#contoh III\n",
    "#perkalian matrix 2 x 3 dan 3 x 4\n",
    "a = np.array ([[7,2,4],[2,9,5]])\n",
    "print (a)"
   ]
  },
  {
   "cell_type": "code",
   "execution_count": 123,
   "id": "281c10f0",
   "metadata": {},
   "outputs": [
    {
     "name": "stdout",
     "output_type": "stream",
     "text": [
      "[[2 4 3 4]\n",
      " [6 3 5 7]\n",
      " [1 0 1 3]]\n"
     ]
    }
   ],
   "source": [
    "b = np.array ([[2,4,3,4],[6,3,5,7],[1,0,1,3]])\n",
    "print (b)"
   ]
  },
  {
   "cell_type": "code",
   "execution_count": 124,
   "id": "844f4260",
   "metadata": {},
   "outputs": [
    {
     "ename": "ValueError",
     "evalue": "operands could not be broadcast together with shapes (2,3) (3,4) ",
     "output_type": "error",
     "traceback": [
      "\u001b[1;31m---------------------------------------------------------------------------\u001b[0m",
      "\u001b[1;31mValueError\u001b[0m                                Traceback (most recent call last)",
      "\u001b[1;32m~\\AppData\\Local\\Temp\\ipykernel_461564\\1544671902.py\u001b[0m in \u001b[0;36m<module>\u001b[1;34m\u001b[0m\n\u001b[1;32m----> 1\u001b[1;33m \u001b[0mc\u001b[0m \u001b[1;33m=\u001b[0m \u001b[0ma\u001b[0m\u001b[1;33m*\u001b[0m\u001b[0mb\u001b[0m\u001b[1;33m\u001b[0m\u001b[1;33m\u001b[0m\u001b[0m\n\u001b[0m\u001b[0;32m      2\u001b[0m \u001b[1;31m#syntax eror karena memiliki jumlah baris dan kolom yang berbeda\u001b[0m\u001b[1;33m\u001b[0m\u001b[1;33m\u001b[0m\u001b[0m\n",
      "\u001b[1;31mValueError\u001b[0m: operands could not be broadcast together with shapes (2,3) (3,4) "
     ]
    }
   ],
   "source": [
    "c = a*b\n",
    "#syntax eror karena memiliki jumlah baris dan kolom yang berbeda"
   ]
  },
  {
   "cell_type": "code",
   "execution_count": 125,
   "id": "5a9cbd01",
   "metadata": {},
   "outputs": [
    {
     "name": "stdout",
     "output_type": "stream",
     "text": [
      "[[7 2 4]\n",
      " [2 9 5]]\n"
     ]
    }
   ],
   "source": [
    "#contoh IV\n",
    "#menjalnkan matmul dengan matrix 2 x 3 dan 3 x 2\n",
    "a = np.array ([[7,2,4],[2,9,5]])\n",
    "print (a)"
   ]
  },
  {
   "cell_type": "code",
   "execution_count": 126,
   "id": "998bfe26",
   "metadata": {},
   "outputs": [
    {
     "name": "stdout",
     "output_type": "stream",
     "text": [
      "[[2 4]\n",
      " [6 3]\n",
      " [0 1]]\n"
     ]
    }
   ],
   "source": [
    "b = np.array ([[2,4],[6,3],[0,1]])\n",
    "print (b)"
   ]
  },
  {
   "cell_type": "code",
   "execution_count": 127,
   "id": "29e4b154",
   "metadata": {},
   "outputs": [
    {
     "name": "stdout",
     "output_type": "stream",
     "text": [
      "[[26 38]\n",
      " [58 40]]\n"
     ]
    }
   ],
   "source": [
    "c = np.matmul(a,b)\n",
    "print (c)"
   ]
  },
  {
   "cell_type": "code",
   "execution_count": 128,
   "id": "d61e7085",
   "metadata": {},
   "outputs": [
    {
     "name": "stdout",
     "output_type": "stream",
     "text": [
      "[[7 2 4]\n",
      " [2 9 5]]\n",
      "[[2 4 0]\n",
      " [6 1 3]]\n"
     ]
    }
   ],
   "source": [
    "#contoh V\n",
    "#menjalankan matmul dengan matrix 2 x 3\n",
    "a = np.array ([[7,2,4],[2,9,5]])\n",
    "print (a)\n",
    "b = np.array ([[2,4,0],[6,1,3]])\n",
    "print (b)"
   ]
  },
  {
   "cell_type": "code",
   "execution_count": 129,
   "id": "3b908c15",
   "metadata": {},
   "outputs": [
    {
     "ename": "ValueError",
     "evalue": "matmul: Input operand 1 has a mismatch in its core dimension 0, with gufunc signature (n?,k),(k,m?)->(n?,m?) (size 2 is different from 3)",
     "output_type": "error",
     "traceback": [
      "\u001b[1;31m---------------------------------------------------------------------------\u001b[0m",
      "\u001b[1;31mValueError\u001b[0m                                Traceback (most recent call last)",
      "\u001b[1;32m~\\AppData\\Local\\Temp\\ipykernel_461564\\3025174110.py\u001b[0m in \u001b[0;36m<module>\u001b[1;34m\u001b[0m\n\u001b[1;32m----> 1\u001b[1;33m \u001b[0mc\u001b[0m \u001b[1;33m=\u001b[0m \u001b[0mnp\u001b[0m\u001b[1;33m.\u001b[0m\u001b[0mmatmul\u001b[0m \u001b[1;33m(\u001b[0m\u001b[0ma\u001b[0m\u001b[1;33m,\u001b[0m\u001b[0mb\u001b[0m\u001b[1;33m)\u001b[0m\u001b[1;33m\u001b[0m\u001b[1;33m\u001b[0m\u001b[0m\n\u001b[0m",
      "\u001b[1;31mValueError\u001b[0m: matmul: Input operand 1 has a mismatch in its core dimension 0, with gufunc signature (n?,k),(k,m?)->(n?,m?) (size 2 is different from 3)"
     ]
    }
   ],
   "source": [
    "c = np.matmul (a,b)"
   ]
  },
  {
   "cell_type": "markdown",
   "id": "576eb727",
   "metadata": {},
   "source": [
    "## Min, Max, dan Sum pada Numpy"
   ]
  },
  {
   "cell_type": "code",
   "execution_count": 130,
   "id": "3506650b",
   "metadata": {},
   "outputs": [
    {
     "name": "stdout",
     "output_type": "stream",
     "text": [
      "[[1 2 1]\n",
      " [2 1 5]\n",
      " [3 0 2]]\n"
     ]
    }
   ],
   "source": [
    "a = np.array ([[1,2,1],[2,1,5],[3,0,2]])\n",
    "print (a)"
   ]
  },
  {
   "cell_type": "code",
   "execution_count": 131,
   "id": "a1a8ea57",
   "metadata": {},
   "outputs": [
    {
     "name": "stdout",
     "output_type": "stream",
     "text": [
      "0\n"
     ]
    }
   ],
   "source": [
    "#min pada matrix yang di wadahkan pada a\n",
    "b = np.min(a)\n",
    "print (b)"
   ]
  },
  {
   "cell_type": "code",
   "execution_count": 132,
   "id": "7b0e5ab2",
   "metadata": {},
   "outputs": [
    {
     "name": "stdout",
     "output_type": "stream",
     "text": [
      "5\n"
     ]
    }
   ],
   "source": [
    "#max pada matrix yang di wadahkan pada a\n",
    "c = np.max(a)\n",
    "print (c)"
   ]
  },
  {
   "cell_type": "code",
   "execution_count": 133,
   "id": "dea8fd24",
   "metadata": {},
   "outputs": [
    {
     "name": "stdout",
     "output_type": "stream",
     "text": [
      "[1 0 1]\n",
      "[3 2 5]\n"
     ]
    }
   ],
   "source": [
    "#axis = 0 untuk np.min\n",
    "#agregasi = penyusun\n",
    "d = np.min(a,axis=0)\n",
    "#axis=0 menunjukkan agregasi di sepanjang baris\n",
    "print (d)\n",
    "#axis = 0 untuk np.max\n",
    "e = np.max(a,axis=0)\n",
    "print (e)"
   ]
  },
  {
   "cell_type": "code",
   "execution_count": 134,
   "id": "a8d90efc",
   "metadata": {},
   "outputs": [
    {
     "name": "stdout",
     "output_type": "stream",
     "text": [
      "[1 0 1]\n",
      "[2 5 3]\n"
     ]
    }
   ],
   "source": [
    "#axis = 1 untuk np.min\n",
    "f = np.min(a,axis=1)\n",
    "#axis=1 menunjukkan agregasi di sepanjang kolom\n",
    "print (d)\n",
    "#axis = 1 untuk np.max\n",
    "g = np.max(a,axis=1)\n",
    "print (g)"
   ]
  },
  {
   "cell_type": "code",
   "execution_count": 135,
   "id": "197a7ce5",
   "metadata": {},
   "outputs": [
    {
     "name": "stdout",
     "output_type": "stream",
     "text": [
      "17\n"
     ]
    }
   ],
   "source": [
    "#sum pada matrix di wadah a\n",
    "h = np.sum(a)\n",
    "print (h)"
   ]
  },
  {
   "cell_type": "code",
   "execution_count": 136,
   "id": "9adad040",
   "metadata": {},
   "outputs": [
    {
     "name": "stdout",
     "output_type": "stream",
     "text": [
      "[6 3 8]\n",
      "[4 8 5]\n"
     ]
    }
   ],
   "source": [
    "#axis = 0 untuk np.sum\n",
    "i = np.sum(a,axis=0)\n",
    "#axis=0 menunjukkan agregasi di sepanjang baris\n",
    "print (i)\n",
    "#axis = 1 untuk np.sum\n",
    "j = np.sum(a,axis=1)\n",
    "#axis=1 menunjukkan agregasi di sepanjang kolom\n",
    "print (j)"
   ]
  }
 ],
 "metadata": {
  "kernelspec": {
   "display_name": "Python 3 (ipykernel)",
   "language": "python",
   "name": "python3"
  },
  "language_info": {
   "codemirror_mode": {
    "name": "ipython",
    "version": 3
   },
   "file_extension": ".py",
   "mimetype": "text/x-python",
   "name": "python",
   "nbconvert_exporter": "python",
   "pygments_lexer": "ipython3",
   "version": "3.9.13"
  }
 },
 "nbformat": 4,
 "nbformat_minor": 5
}
