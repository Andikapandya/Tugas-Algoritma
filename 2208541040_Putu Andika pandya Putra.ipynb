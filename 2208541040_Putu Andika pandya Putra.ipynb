{
 "cells": [
  {
   "cell_type": "code",
   "execution_count": 16,
   "metadata": {
    "colab": {
     "base_uri": "https://localhost:8080/"
    },
    "executionInfo": {
     "elapsed": 496,
     "status": "ok",
     "timestamp": 1678672045347,
     "user": {
      "displayName": "Matematika_Putu Andika Pandya Putra",
      "userId": "12798508890080558511"
     },
     "user_tz": -420
    },
    "id": "e6oWY98eiIGP",
    "outputId": "0c5c1c5a-db96-4a01-8407-e3d0f1c608ba"
   },
   "outputs": [
    {
     "name": "stdout",
     "output_type": "stream",
     "text": [
      "86\n"
     ]
    }
   ],
   "source": [
    "mahasiswa_prodi_matematika = 86\n",
    "print (mahasiswa_prodi_matematika)"
   ]
  },
  {
   "cell_type": "markdown",
   "metadata": {
    "id": "NgYVOiJnvU4F"
   },
   "source": [
    "# Membuat Nama"
   ]
  },
  {
   "cell_type": "code",
   "execution_count": 17,
   "metadata": {
    "colab": {
     "base_uri": "https://localhost:8080/"
    },
    "executionInfo": {
     "elapsed": 10,
     "status": "ok",
     "timestamp": 1678671262532,
     "user": {
      "displayName": "Matematika_Putu Andika Pandya Putra",
      "userId": "12798508890080558511"
     },
     "user_tz": -420
    },
    "id": "r0nNORicjpPf",
    "outputId": "25c714b4-63f0-40bf-e257-83955f2e8778"
   },
   "outputs": [
    {
     "name": "stdout",
     "output_type": "stream",
     "text": [
      "Putu Andika Pandya Putra\n"
     ]
    }
   ],
   "source": [
    "#menambahkan spasi pada inputan parameter nama_depan yang menghasilkan spasi setelah nama_depan\n",
    "nama_depan = 'Putu Andika '\n",
    "nama_belakang = 'Pandya Putra'\n",
    "print (nama_depan + nama_belakang)"
   ]
  },
  {
   "cell_type": "code",
   "execution_count": 18,
   "metadata": {
    "colab": {
     "base_uri": "https://localhost:8080/"
    },
    "executionInfo": {
     "elapsed": 403,
     "status": "ok",
     "timestamp": 1678671228007,
     "user": {
      "displayName": "Matematika_Putu Andika Pandya Putra",
      "userId": "12798508890080558511"
     },
     "user_tz": -420
    },
    "id": "qLaQIc4dl0rz",
    "outputId": "adc83937-f8a4-4328-b9fc-76fc00a3edbf"
   },
   "outputs": [
    {
     "name": "stdout",
     "output_type": "stream",
     "text": [
      "Putu Andika Pandya Putra\n"
     ]
    }
   ],
   "source": [
    "#menambahkan ' ' untuk membuat spasi antar parameter nama_depan dan nama_belakang\n",
    "nama_depan = 'Putu Andika'\n",
    "nama_belakang = 'Pandya Putra'\n",
    "print (nama_depan +' '+ nama_belakang)"
   ]
  },
  {
   "cell_type": "code",
   "execution_count": 19,
   "metadata": {
    "colab": {
     "base_uri": "https://localhost:8080/"
    },
    "executionInfo": {
     "elapsed": 12773,
     "status": "ok",
     "timestamp": 1678671709942,
     "user": {
      "displayName": "Matematika_Putu Andika Pandya Putra",
      "userId": "12798508890080558511"
     },
     "user_tz": -420
    },
    "id": "8otky4ibl8P6",
    "outputId": "a804f6f8-aea3-4a33-9025-2dc664ea3fc2"
   },
   "outputs": [
    {
     "name": "stdout",
     "output_type": "stream",
     "text": [
      "input nama anda andika\n",
      "selamat pagi andika\n"
     ]
    }
   ],
   "source": [
    "#terjadi kesalahan apabila dalam input () tidak diberikan tanda petik sehingga akan menyebabkan invalid syntax\n",
    "nama = input('input nama anda ')\n",
    "print ('selamat pagi' +' '+ nama)"
   ]
  },
  {
   "cell_type": "code",
   "execution_count": 20,
   "metadata": {
    "executionInfo": {
     "elapsed": 10,
     "status": "ok",
     "timestamp": 1678671904980,
     "user": {
      "displayName": "Matematika_Putu Andika Pandya Putra",
      "userId": "12798508890080558511"
     },
     "user_tz": -420
    },
    "id": "Vx_mhFF3nNYt"
   },
   "outputs": [],
   "source": [
    "kegiatan = 'belajar'"
   ]
  },
  {
   "cell_type": "code",
   "execution_count": 21,
   "metadata": {
    "colab": {
     "base_uri": "https://localhost:8080/",
     "height": 36
    },
    "executionInfo": {
     "elapsed": 16,
     "status": "ok",
     "timestamp": 1678671910794,
     "user": {
      "displayName": "Matematika_Putu Andika Pandya Putra",
      "userId": "12798508890080558511"
     },
     "user_tz": -420
    },
    "id": "DvyVkMVtovoC",
    "outputId": "8fa868a3-6e52-4003-ce29-1b21a20bc917"
   },
   "outputs": [
    {
     "data": {
      "text/plain": [
       "'belajar'"
      ]
     },
     "execution_count": 21,
     "metadata": {},
     "output_type": "execute_result"
    }
   ],
   "source": [
    "kegiatan"
   ]
  },
  {
   "cell_type": "markdown",
   "metadata": {},
   "source": [
    "# Menghitung Jumlah Mahasiswa"
   ]
  },
  {
   "cell_type": "code",
   "execution_count": 22,
   "metadata": {
    "colab": {
     "base_uri": "https://localhost:8080/"
    },
    "executionInfo": {
     "elapsed": 371,
     "status": "ok",
     "timestamp": 1678673245964,
     "user": {
      "displayName": "Matematika_Putu Andika Pandya Putra",
      "userId": "12798508890080558511"
     },
     "user_tz": -420
    },
    "id": "8yITTp09owMa",
    "outputId": "2530cbc5-9367-4266-d2ec-2b4efe24fdb3"
   },
   "outputs": [
    {
     "name": "stdout",
     "output_type": "stream",
     "text": [
      "Jumlah Total = 73\n"
     ]
    }
   ],
   "source": [
    "#jika untuk menambahkan kata \"Jumlah Total\" pada output perlu menggunakan str karena Jumlah Total disini masih tergabung dalam int sehingga akan menyebabkan eror\n",
    "#int untuk bilangan bulat\n",
    "#str biasanya untuk data yang berbentuk teks\n",
    "jumlah_Mahasiswa_L = 3\n",
    "Jumlah_Mahasiswa_P = 70\n",
    "Jumlah_total = jumlah_Mahasiswa_L + Jumlah_Mahasiswa_P\n",
    "print ('Jumlah Total = ' + str (Jumlah_total))"
   ]
  },
  {
   "cell_type": "markdown",
   "metadata": {},
   "source": [
    "# Persegi Panjang"
   ]
  },
  {
   "cell_type": "code",
   "execution_count": 23,
   "metadata": {
    "colab": {
     "base_uri": "https://localhost:8080/"
    },
    "executionInfo": {
     "elapsed": 10,
     "status": "ok",
     "timestamp": 1678673414718,
     "user": {
      "displayName": "Matematika_Putu Andika Pandya Putra",
      "userId": "12798508890080558511"
     },
     "user_tz": -420
    },
    "id": "75k5LcGYqRDq",
    "outputId": "77c41cb7-61e1-4d67-c9e7-12b94f188c53"
   },
   "outputs": [
    {
     "name": "stdout",
     "output_type": "stream",
     "text": [
      "300\n"
     ]
    }
   ],
   "source": [
    "sisi_1 = 20\n",
    "sisi_2 = 15\n",
    "luas_Persegi_panjang = sisi_1 * sisi_2\n",
    "print (luas_Persegi_panjang)"
   ]
  },
  {
   "cell_type": "markdown",
   "metadata": {
    "id": "gz8i9aHgvO3b"
   },
   "source": [
    "# Lingkaran"
   ]
  },
  {
   "cell_type": "code",
   "execution_count": 24,
   "metadata": {
    "colab": {
     "base_uri": "https://localhost:8080/"
    },
    "executionInfo": {
     "elapsed": 357,
     "status": "ok",
     "timestamp": 1678673908661,
     "user": {
      "displayName": "Matematika_Putu Andika Pandya Putra",
      "userId": "12798508890080558511"
     },
     "user_tz": -420
    },
    "id": "5wXoH9uKvSPT",
    "outputId": "caeb95aa-d9b1-4c98-fb30-a61d9797e07b"
   },
   "outputs": [
    {
     "name": "stdout",
     "output_type": "stream",
     "text": [
      "154.0\n"
     ]
    }
   ],
   "source": [
    "diameter = 14\n",
    "phi = 22/7\n",
    "jari_jari = diameter/2\n",
    "Luas_Lingkaran = phi * jari_jari * jari_jari\n",
    "print (Luas_Lingkaran)"
   ]
  },
  {
   "cell_type": "code",
   "execution_count": 25,
   "metadata": {
    "colab": {
     "base_uri": "https://localhost:8080/"
    },
    "executionInfo": {
     "elapsed": 5729,
     "status": "ok",
     "timestamp": 1678674693360,
     "user": {
      "displayName": "Matematika_Putu Andika Pandya Putra",
      "userId": "12798508890080558511"
     },
     "user_tz": -420
    },
    "id": "g3kPaWKQwaT1",
    "outputId": "c8fcbaed-63a9-4fb7-da5a-04cf271dd0a3"
   },
   "outputs": [
    {
     "name": "stdout",
     "output_type": "stream",
     "text": [
      "input diameter 17\n",
      "226.865\n"
     ]
    }
   ],
   "source": [
    "#dalam penulisan koma tanda yang digunakan ialah titik \".\"\n",
    "#dalam kasus ini perlu menggunakan int karena pada diameter tersebut masih menjadi string\n",
    "diameter = input ('input diameter ')\n",
    "phi = 3.14\n",
    "jari_jari = int (diameter)/2\n",
    "Luas_Lingkaran = phi * jari_jari * jari_jari\n",
    "print (Luas_Lingkaran)"
   ]
  },
  {
   "cell_type": "markdown",
   "metadata": {},
   "source": [
    "# Deret Aritmatika"
   ]
  },
  {
   "cell_type": "code",
   "execution_count": 45,
   "metadata": {},
   "outputs": [
    {
     "name": "stdout",
     "output_type": "stream",
     "text": [
      "Masukkan suku ke-n 1\n",
      "Masukkan suku pertama 2\n",
      "Masukan beda 2\n",
      "Un = 2\n"
     ]
    }
   ],
   "source": [
    "#mengubah parameter suku_ke_n, suku_pertama, beda menjadi int \n",
    "suku_ke_n = input ('Masukkan suku ke-n ')\n",
    "suku_pertama = input ('Masukkan suku pertama ')\n",
    "beda = input ('Masukan beda ')\n",
    "Un = int (suku_pertama) + (int (suku_ke_n)-1) * int (beda)\n",
    "print ('Un = ' + str (Un))"
   ]
  },
  {
   "cell_type": "code",
   "execution_count": null,
   "metadata": {},
   "outputs": [],
   "source": []
  }
 ],
 "metadata": {
  "colab": {
   "authorship_tag": "ABX9TyM3MK+iAVJkQgjqGPOt8aVy",
   "mount_file_id": "1PIn00Cz45i8ULhXaq6gBR1kUz5juLt92",
   "provenance": []
  },
  "kernelspec": {
   "display_name": "Python 3 (ipykernel)",
   "language": "python",
   "name": "python3"
  },
  "language_info": {
   "codemirror_mode": {
    "name": "ipython",
    "version": 3
   },
   "file_extension": ".py",
   "mimetype": "text/x-python",
   "name": "python",
   "nbconvert_exporter": "python",
   "pygments_lexer": "ipython3",
   "version": "3.9.13"
  }
 },
 "nbformat": 4,
 "nbformat_minor": 1
}
